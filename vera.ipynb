{
 "cells": [
  {
   "cell_type": "markdown",
   "metadata": {},
   "source": [
    "# Mi3-GPU Setup and Sequence Analysis Pipeline"
   ]
  },
  {
   "cell_type": "code",
   "execution_count": null,
   "metadata": {
    "id": "install_deps"
   },
   "outputs": [],
   "source": [
    "!apt-get update && apt-get install -y build-essential libssl-dev libffi-dev python3-dev ocl-icd-libopencl1 opencl-headers clinfo libopenmpi-dev ocl-icd-opencl-dev\n",
    "!pip install numpy scipy pyopencl biopython matplotlib configargparse mpi4py siphash24 cython setuptools wheel setuptools-git-ver setuptools-git-versioning seqtools"
   ]
  },
  {
   "cell_type": "code",
   "execution_count": null,
   "metadata": {
    "id": "clone_mi3gpu"
   },
   "outputs": [],
   "source": [
    "!git clone https://github.com/ahaldane/Mi3-GPU.git\n",
    "%cd Mi3-GPU\n",
    "!python3 setup.py build_ext --inplace"
   ]
  },
  {
   "cell_type": "code",
   "execution_count": null,
   "metadata": {
    "id": "clone_random123"
   },
   "outputs": [],
   "source": [
    "%cd extras\n",
    "!git clone https://github.com/DEShawResearch/Random123.git\n",
    "!cp -r Random123/include/Random123/ ./"
   ]
  },
  {
   "cell_type": "code",
   "execution_count": null,
   "metadata": {
    "id": "compile_c"
   },
   "outputs": [],
   "source": [
    "%cd /content/Mi3-GPU/extras/\n",
    "!sed -i 's/%d)/%zu)/g' mcmcCPUgenThreaded.c\n",
    "!gcc -O3 mcmcCPUgenThreaded.c -lm -o cpu"
   ]
  },
  {
   "cell_type": "markdown",
   "metadata": {},
   "source": [
    "## Load Input Sequence File"
   ]
  },
  {
   "cell_type": "code",
   "execution_count": null,
   "metadata": {
    "id": "upload_fasta"
   },
   "outputs": [],
   "source": [
    "from google.colab import files\n",
    "uploaded = files.upload()\n",
    "fasta_file = list(uploaded.keys())[0]\n",
    "!cp {fasta_file} PF00018_full.txt"
   ]
  },
  {
   "cell_type": "code",
   "execution_count": null,
   "metadata": {
    "id": "convert_fasta"
   },
   "outputs": [],
   "source": [
    "import re\n",
    "\n",
    "alpha = '-ACDEFGHIKLMNPQRSTVWY'\n",
    "\n",
    "with open(\"PF00018_full.txt\", \"r\") as fin:\n",
    "    seqs = [re.sub('[a-z.]', '', r.split()[-1]) for r in fin if not (r.startswith('#') or r.startswith('/'))]\n",
    "\n",
    "seqs = [s for s in seqs if all(c in alpha for c in s)]\n",
    "\n",
    "with open(\"seqs21_raw\", \"wt\") as fout:\n",
    "    fout.write(\"\\n\".join(seqs))"
   ]
  },
  {
   "cell_type": "code",
   "execution_count": null,
   "metadata": {
    "id": "filter_seqs"
   },
   "outputs": [],
   "source": [
    "import mi3gpu.utils.seqload as seqload\n",
    "import numpy as np\n",
    "\n",
    "seqs = seqload.loadSeqs('seqs21_raw')[0]\n",
    "nseq, L = seqs.shape\n",
    "\n",
    "# Remove columns with > 10% gaps\n",
    "col_gap_pct = np.sum(seqs == 0, axis=0) / float(nseq)\n",
    "seqs = seqs[:, col_gap_pct < 0.1]\n",
    "\n",
    "# Remove sequences with > 10% gaps\n",
    "seq_gap_pct = np.sum(seqs == 0, axis=1) / float(L)\n",
    "seqs = seqs[seq_gap_pct < 0.1, :]\n",
    "\n",
    "print(\"N: {}   L: {}\".format(*seqs.shape))\n",
    "\n",
    "seqload.writeSeqs('seqs21', seqs)"
   ]
  },
  {
   "cell_type": "code",
   "execution_count": null,
   "metadata": {
    "id": "compute_weights"
   },
   "outputs": [],
   "source": [
    "phy = 0.4\n",
    "weights = np.ones(len(seqs))\n",
    "np.save(f'weights{phy}.npy', weights)"
   ]
  },
  {
   "cell_type": "code",
   "execution_count": null,
   "metadata": {
    "id": "compute_neff"
   },
   "outputs": [],
   "source": [
    "Neff = len(seqs)\n",
    "with open(f'Neff{phy}.txt', 'w') as f:\n",
    "    f.write(str(Neff))"
   ]
  },
  {
   "cell_type": "code",
   "execution_count": null,
   "metadata": {
    "id": "run_mi3"
   },
   "outputs": [],
   "source": [
    "Mi3_path = '/content/Mi3-GPU/mi3gpu/Mi3.py'\n",
    "bim = 'bim21Jeff.npy'\n",
    "outdir = 'inference_output'\n",
    "!python3 -u {Mi3_path} infer --bimarg {bim} --init_model independent --nwalkers 262144 --mcsteps 64 --reg l1z:0.0001 --outdir {outdir}"
   ]
  }
 ],
 "metadata": {
  "colab": {},
  "kernelspec": {
   "display_name": "Python 3",
   "name": "python3"
  },
  "language_info": {
   "name": "python"
  }
 },
 "nbformat": 4,
 "nbformat_minor": 0
}