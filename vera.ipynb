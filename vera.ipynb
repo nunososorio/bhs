{
  "cells": [
    {
      "cell_type": "markdown",
      "metadata": {
        "id": "J3qKhWsmZ-1S"
      },
      "source": [
        "# Mi3-GPU Setup and Sequence Analysis Pipeline"
      ]
    },
    {
      "cell_type": "code",
      "execution_count": 1,
      "metadata": {
        "id": "install_deps",
        "outputId": "2ce91348-d520-49f8-961b-cc3a8421a4e1",
        "colab": {
          "base_uri": "https://localhost:8080/"
        }
      },
      "outputs": [
        {
          "output_type": "stream",
          "name": "stdout",
          "text": [
            "Hit:1 http://archive.ubuntu.com/ubuntu jammy InRelease\n",
            "Get:2 http://archive.ubuntu.com/ubuntu jammy-updates InRelease [128 kB]\n",
            "Get:3 http://archive.ubuntu.com/ubuntu jammy-backports InRelease [127 kB]\n",
            "Get:4 http://security.ubuntu.com/ubuntu jammy-security InRelease [129 kB]\n",
            "Get:5 https://cloud.r-project.org/bin/linux/ubuntu jammy-cran40/ InRelease [3,632 B]\n",
            "Get:6 https://developer.download.nvidia.com/compute/cuda/repos/ubuntu2204/x86_64  InRelease [1,581 B]\n",
            "Get:7 https://r2u.stat.illinois.edu/ubuntu jammy InRelease [6,555 B]\n",
            "Hit:8 https://ppa.launchpadcontent.net/deadsnakes/ppa/ubuntu jammy InRelease\n",
            "Hit:9 https://ppa.launchpadcontent.net/graphics-drivers/ppa/ubuntu jammy InRelease\n",
            "Hit:10 https://ppa.launchpadcontent.net/ubuntugis/ppa/ubuntu jammy InRelease\n",
            "Get:11 http://archive.ubuntu.com/ubuntu jammy-updates/main amd64 Packages [2,911 kB]\n",
            "Get:12 http://archive.ubuntu.com/ubuntu jammy-updates/universe amd64 Packages [1,526 kB]\n",
            "Get:13 http://security.ubuntu.com/ubuntu jammy-security/main amd64 Packages [2,609 kB]\n",
            "Get:14 https://developer.download.nvidia.com/compute/cuda/repos/ubuntu2204/x86_64  Packages [1,315 kB]\n",
            "Get:15 https://r2u.stat.illinois.edu/ubuntu jammy/main amd64 Packages [2,657 kB]\n",
            "Get:16 https://r2u.stat.illinois.edu/ubuntu jammy/main all Packages [8,677 kB]\n",
            "Fetched 20.1 MB in 4s (4,633 kB/s)\n",
            "Reading package lists... Done\n",
            "W: Skipping acquire of configured file 'main/source/Sources' as repository 'https://r2u.stat.illinois.edu/ubuntu jammy InRelease' does not seem to provide it (sources.list entry misspelt?)\n",
            "Reading package lists... Done\n",
            "Building dependency tree... Done\n",
            "Reading state information... Done\n",
            "build-essential is already the newest version (12.9ubuntu3).\n",
            "clinfo is already the newest version (3.0.21.02.21-1).\n",
            "libopenmpi-dev is already the newest version (4.1.2-2ubuntu1).\n",
            "ocl-icd-libopencl1 is already the newest version (2.2.14-3).\n",
            "ocl-icd-libopencl1 set to manually installed.\n",
            "ocl-icd-opencl-dev is already the newest version (2.2.14-3).\n",
            "ocl-icd-opencl-dev set to manually installed.\n",
            "libssl-dev is already the newest version (3.0.2-0ubuntu1.18).\n",
            "python3-dev is already the newest version (3.10.6-1~22.04.1).\n",
            "python3-dev set to manually installed.\n",
            "The following NEW packages will be installed:\n",
            "  libffi-dev opencl-headers\n",
            "0 upgraded, 2 newly installed, 0 to remove and 22 not upgraded.\n",
            "Need to get 65.5 kB of archives.\n",
            "After this operation, 348 kB of additional disk space will be used.\n",
            "Get:1 http://archive.ubuntu.com/ubuntu jammy/main amd64 libffi-dev amd64 3.4.2-4 [63.7 kB]\n",
            "Get:2 http://archive.ubuntu.com/ubuntu jammy/universe amd64 opencl-headers all 3.0~2022.01.04-1 [1,754 B]\n",
            "Fetched 65.5 kB in 0s (255 kB/s)\n",
            "Selecting previously unselected package libffi-dev:amd64.\n",
            "(Reading database ... 124926 files and directories currently installed.)\n",
            "Preparing to unpack .../libffi-dev_3.4.2-4_amd64.deb ...\n",
            "Unpacking libffi-dev:amd64 (3.4.2-4) ...\n",
            "Selecting previously unselected package opencl-headers.\n",
            "Preparing to unpack .../opencl-headers_3.0~2022.01.04-1_all.deb ...\n",
            "Unpacking opencl-headers (3.0~2022.01.04-1) ...\n",
            "Setting up libffi-dev:amd64 (3.4.2-4) ...\n",
            "Setting up opencl-headers (3.0~2022.01.04-1) ...\n",
            "Processing triggers for man-db (2.10.2-1) ...\n",
            "Requirement already satisfied: numpy in /usr/local/lib/python3.11/dist-packages (1.26.4)\n",
            "Requirement already satisfied: scipy in /usr/local/lib/python3.11/dist-packages (1.13.1)\n",
            "Collecting pyopencl\n",
            "  Downloading pyopencl-2025.1-cp311-cp311-manylinux_2_17_x86_64.manylinux2014_x86_64.whl.metadata (4.8 kB)\n",
            "Collecting biopython\n",
            "  Downloading biopython-1.85-cp311-cp311-manylinux_2_17_x86_64.manylinux2014_x86_64.whl.metadata (13 kB)\n",
            "Requirement already satisfied: matplotlib in /usr/local/lib/python3.11/dist-packages (3.10.0)\n",
            "Collecting configargparse\n",
            "  Downloading ConfigArgParse-1.7-py3-none-any.whl.metadata (23 kB)\n",
            "Collecting mpi4py\n",
            "  Downloading mpi4py-4.0.3.tar.gz (466 kB)\n",
            "\u001b[2K     \u001b[90m━━━━━━━━━━━━━━━━━━━━━━━━━━━━━━━━━━━━━━━━\u001b[0m \u001b[32m466.3/466.3 kB\u001b[0m \u001b[31m8.1 MB/s\u001b[0m eta \u001b[36m0:00:00\u001b[0m\n",
            "\u001b[?25h  Installing build dependencies ... \u001b[?25l\u001b[?25hdone\n",
            "  Getting requirements to build wheel ... \u001b[?25l\u001b[?25hdone\n",
            "  Installing backend dependencies ... \u001b[?25l\u001b[?25hdone\n",
            "  Preparing metadata (pyproject.toml) ... \u001b[?25l\u001b[?25hdone\n",
            "Collecting siphash24\n",
            "  Downloading siphash24-1.7-cp311-cp311-manylinux_2_17_x86_64.manylinux2014_x86_64.whl.metadata (3.3 kB)\n",
            "Requirement already satisfied: cython in /usr/local/lib/python3.11/dist-packages (3.0.12)\n",
            "Requirement already satisfied: setuptools in /usr/local/lib/python3.11/dist-packages (75.1.0)\n",
            "Requirement already satisfied: wheel in /usr/local/lib/python3.11/dist-packages (0.45.1)\n",
            "Collecting setuptools-git-ver\n",
            "  Downloading setuptools_git_ver-1.0.4-py3-none-any.whl.metadata (1.9 kB)\n",
            "Collecting setuptools-git-versioning\n",
            "  Downloading setuptools_git_versioning-2.1.0-py3-none-any.whl.metadata (6.1 kB)\n",
            "Collecting seqtools\n",
            "  Downloading SeqTools-1.4.1-cp311-cp311-manylinux_2_5_x86_64.manylinux1_x86_64.manylinux_2_17_x86_64.manylinux2014_x86_64.whl.metadata (6.6 kB)\n",
            "Requirement already satisfied: platformdirs>=2.2 in /usr/local/lib/python3.11/dist-packages (from pyopencl) (4.3.6)\n",
            "Collecting pytools>=2024.1.5 (from pyopencl)\n",
            "  Downloading pytools-2025.1.1-py3-none-any.whl.metadata (3.0 kB)\n",
            "Requirement already satisfied: contourpy>=1.0.1 in /usr/local/lib/python3.11/dist-packages (from matplotlib) (1.3.1)\n",
            "Requirement already satisfied: cycler>=0.10 in /usr/local/lib/python3.11/dist-packages (from matplotlib) (0.12.1)\n",
            "Requirement already satisfied: fonttools>=4.22.0 in /usr/local/lib/python3.11/dist-packages (from matplotlib) (4.56.0)\n",
            "Requirement already satisfied: kiwisolver>=1.3.1 in /usr/local/lib/python3.11/dist-packages (from matplotlib) (1.4.8)\n",
            "Requirement already satisfied: packaging>=20.0 in /usr/local/lib/python3.11/dist-packages (from matplotlib) (24.2)\n",
            "Requirement already satisfied: pillow>=8 in /usr/local/lib/python3.11/dist-packages (from matplotlib) (11.1.0)\n",
            "Requirement already satisfied: pyparsing>=2.3.1 in /usr/local/lib/python3.11/dist-packages (from matplotlib) (3.2.1)\n",
            "Requirement already satisfied: python-dateutil>=2.7 in /usr/local/lib/python3.11/dist-packages (from matplotlib) (2.8.2)\n",
            "Collecting tblib (from seqtools)\n",
            "  Downloading tblib-3.0.0-py3-none-any.whl.metadata (25 kB)\n",
            "Requirement already satisfied: threadpoolctl in /usr/local/lib/python3.11/dist-packages (from seqtools) (3.5.0)\n",
            "Requirement already satisfied: six>=1.5 in /usr/local/lib/python3.11/dist-packages (from python-dateutil>=2.7->matplotlib) (1.17.0)\n",
            "Requirement already satisfied: typing-extensions>=4.5 in /usr/local/lib/python3.11/dist-packages (from pytools>=2024.1.5->pyopencl) (4.12.2)\n",
            "Downloading pyopencl-2025.1-cp311-cp311-manylinux_2_17_x86_64.manylinux2014_x86_64.whl (724 kB)\n",
            "\u001b[2K   \u001b[90m━━━━━━━━━━━━━━━━━━━━━━━━━━━━━━━━━━━━━━━━\u001b[0m \u001b[32m724.6/724.6 kB\u001b[0m \u001b[31m23.9 MB/s\u001b[0m eta \u001b[36m0:00:00\u001b[0m\n",
            "\u001b[?25hDownloading biopython-1.85-cp311-cp311-manylinux_2_17_x86_64.manylinux2014_x86_64.whl (3.3 MB)\n",
            "\u001b[2K   \u001b[90m━━━━━━━━━━━━━━━━━━━━━━━━━━━━━━━━━━━━━━━━\u001b[0m \u001b[32m3.3/3.3 MB\u001b[0m \u001b[31m54.0 MB/s\u001b[0m eta \u001b[36m0:00:00\u001b[0m\n",
            "\u001b[?25hDownloading ConfigArgParse-1.7-py3-none-any.whl (25 kB)\n",
            "Downloading siphash24-1.7-cp311-cp311-manylinux_2_17_x86_64.manylinux2014_x86_64.whl (105 kB)\n",
            "\u001b[2K   \u001b[90m━━━━━━━━━━━━━━━━━━━━━━━━━━━━━━━━━━━━━━━━\u001b[0m \u001b[32m105.6/105.6 kB\u001b[0m \u001b[31m7.7 MB/s\u001b[0m eta \u001b[36m0:00:00\u001b[0m\n",
            "\u001b[?25hDownloading setuptools_git_ver-1.0.4-py3-none-any.whl (4.2 kB)\n",
            "Downloading setuptools_git_versioning-2.1.0-py3-none-any.whl (10 kB)\n",
            "Downloading SeqTools-1.4.1-cp311-cp311-manylinux_2_5_x86_64.manylinux1_x86_64.manylinux_2_17_x86_64.manylinux2014_x86_64.whl (44 kB)\n",
            "\u001b[2K   \u001b[90m━━━━━━━━━━━━━━━━━━━━━━━━━━━━━━━━━━━━━━━━\u001b[0m \u001b[32m44.7/44.7 kB\u001b[0m \u001b[31m2.3 MB/s\u001b[0m eta \u001b[36m0:00:00\u001b[0m\n",
            "\u001b[?25hDownloading pytools-2025.1.1-py3-none-any.whl (92 kB)\n",
            "\u001b[2K   \u001b[90m━━━━━━━━━━━━━━━━━━━━━━━━━━━━━━━━━━━━━━━━\u001b[0m \u001b[32m92.8/92.8 kB\u001b[0m \u001b[31m4.8 MB/s\u001b[0m eta \u001b[36m0:00:00\u001b[0m\n",
            "\u001b[?25hDownloading tblib-3.0.0-py3-none-any.whl (12 kB)\n",
            "Building wheels for collected packages: mpi4py\n",
            "  Building wheel for mpi4py (pyproject.toml) ... \u001b[?25l\u001b[?25hdone\n",
            "  Created wheel for mpi4py: filename=mpi4py-4.0.3-cp311-cp311-linux_x86_64.whl size=4458239 sha256=4144716a52bfefba6ac986d44b73a1bf588b745a2d0dff73932b26efa85a9799\n",
            "  Stored in directory: /root/.cache/pip/wheels/5c/56/17/bf6ba37aa971a191a8b9eaa188bf5ec855b8911c1c56fb1f84\n",
            "Successfully built mpi4py\n",
            "Installing collected packages: tblib, siphash24, setuptools-git-versioning, setuptools-git-ver, pytools, mpi4py, configargparse, biopython, seqtools, pyopencl\n",
            "Successfully installed biopython-1.85 configargparse-1.7 mpi4py-4.0.3 pyopencl-2025.1 pytools-2025.1.1 seqtools-1.4.1 setuptools-git-ver-1.0.4 setuptools-git-versioning-2.1.0 siphash24-1.7 tblib-3.0.0\n"
          ]
        }
      ],
      "source": [
        "!apt-get update && apt-get install -y build-essential libssl-dev libffi-dev python3-dev ocl-icd-libopencl1 opencl-headers clinfo libopenmpi-dev ocl-icd-opencl-dev\n",
        "!pip install numpy scipy pyopencl biopython matplotlib configargparse mpi4py siphash24 cython setuptools wheel setuptools-git-ver setuptools-git-versioning seqtools"
      ]
    },
    {
      "source": [
        "# Downgrade to a compatible numpy version\n",
        "!pip install numpy==2.0\n",
        "\n",
        "# Update thinc to a compatible version\n",
        "!pip install thinc==8.2.5\n",
        "\n",
        "# Reinstall mi3gpu to use the compatible numpy version\n",
        "!pip install --upgrade mi3gpu\n",
        "!pip install --upgrade spacy"
      ],
      "cell_type": "code",
      "metadata": {
        "colab": {
          "base_uri": "https://localhost:8080/"
        },
        "id": "YRhz2n3AcpV4",
        "outputId": "9fbcc8c9-0a24-4092-813d-6a69cbb6b774"
      },
      "execution_count": 2,
      "outputs": [
        {
          "output_type": "stream",
          "name": "stdout",
          "text": [
            "Collecting numpy==2.0\n",
            "  Downloading numpy-2.0.0-cp311-cp311-manylinux_2_17_x86_64.manylinux2014_x86_64.whl.metadata (60 kB)\n",
            "\u001b[?25l     \u001b[90m━━━━━━━━━━━━━━━━━━━━━━━━━━━━━━━━━━━━━━━━\u001b[0m \u001b[32m0.0/60.9 kB\u001b[0m \u001b[31m?\u001b[0m eta \u001b[36m-:--:--\u001b[0m\r\u001b[2K     \u001b[90m━━━━━━━━━━━━━━━━━━━━━━━━━━━━━━━━━━━━━━━━\u001b[0m \u001b[32m60.9/60.9 kB\u001b[0m \u001b[31m2.4 MB/s\u001b[0m eta \u001b[36m0:00:00\u001b[0m\n",
            "\u001b[?25hDownloading numpy-2.0.0-cp311-cp311-manylinux_2_17_x86_64.manylinux2014_x86_64.whl (19.3 MB)\n",
            "\u001b[2K   \u001b[90m━━━━━━━━━━━━━━━━━━━━━━━━━━━━━━━━━━━━━━━━\u001b[0m \u001b[32m19.3/19.3 MB\u001b[0m \u001b[31m47.9 MB/s\u001b[0m eta \u001b[36m0:00:00\u001b[0m\n",
            "\u001b[?25hInstalling collected packages: numpy\n",
            "  Attempting uninstall: numpy\n",
            "    Found existing installation: numpy 1.26.4\n",
            "    Uninstalling numpy-1.26.4:\n",
            "      Successfully uninstalled numpy-1.26.4\n",
            "\u001b[31mERROR: pip's dependency resolver does not currently take into account all the packages that are installed. This behaviour is the source of the following dependency conflicts.\n",
            "gensim 4.3.3 requires numpy<2.0,>=1.18.5, but you have numpy 2.0.0 which is incompatible.\n",
            "thinc 8.2.5 requires numpy<2.0.0,>=1.19.0; python_version >= \"3.9\", but you have numpy 2.0.0 which is incompatible.\n",
            "langchain 0.3.18 requires numpy<2,>=1.26.4; python_version < \"3.12\", but you have numpy 2.0.0 which is incompatible.\n",
            "pytensor 2.27.1 requires numpy<2,>=1.17.0, but you have numpy 2.0.0 which is incompatible.\u001b[0m\u001b[31m\n",
            "\u001b[0mSuccessfully installed numpy-2.0.0\n",
            "Requirement already satisfied: thinc==8.2.5 in /usr/local/lib/python3.11/dist-packages (8.2.5)\n",
            "Requirement already satisfied: blis<0.8.0,>=0.7.8 in /usr/local/lib/python3.11/dist-packages (from thinc==8.2.5) (0.7.11)\n",
            "Requirement already satisfied: murmurhash<1.1.0,>=1.0.2 in /usr/local/lib/python3.11/dist-packages (from thinc==8.2.5) (1.0.12)\n",
            "Requirement already satisfied: cymem<2.1.0,>=2.0.2 in /usr/local/lib/python3.11/dist-packages (from thinc==8.2.5) (2.0.11)\n",
            "Requirement already satisfied: preshed<3.1.0,>=3.0.2 in /usr/local/lib/python3.11/dist-packages (from thinc==8.2.5) (3.0.9)\n",
            "Requirement already satisfied: wasabi<1.2.0,>=0.8.1 in /usr/local/lib/python3.11/dist-packages (from thinc==8.2.5) (1.1.3)\n",
            "Requirement already satisfied: srsly<3.0.0,>=2.4.0 in /usr/local/lib/python3.11/dist-packages (from thinc==8.2.5) (2.5.1)\n",
            "Requirement already satisfied: catalogue<2.1.0,>=2.0.4 in /usr/local/lib/python3.11/dist-packages (from thinc==8.2.5) (2.0.10)\n",
            "Requirement already satisfied: confection<1.0.0,>=0.0.1 in /usr/local/lib/python3.11/dist-packages (from thinc==8.2.5) (0.1.5)\n",
            "Requirement already satisfied: setuptools in /usr/local/lib/python3.11/dist-packages (from thinc==8.2.5) (75.1.0)\n",
            "Requirement already satisfied: pydantic!=1.8,!=1.8.1,<3.0.0,>=1.7.4 in /usr/local/lib/python3.11/dist-packages (from thinc==8.2.5) (2.10.6)\n",
            "Requirement already satisfied: packaging>=20.0 in /usr/local/lib/python3.11/dist-packages (from thinc==8.2.5) (24.2)\n",
            "Collecting numpy<2.0.0,>=1.19.0 (from thinc==8.2.5)\n",
            "  Downloading numpy-1.26.4-cp311-cp311-manylinux_2_17_x86_64.manylinux2014_x86_64.whl.metadata (61 kB)\n",
            "\u001b[2K     \u001b[90m━━━━━━━━━━━━━━━━━━━━━━━━━━━━━━━━━━━━━━━━\u001b[0m \u001b[32m61.0/61.0 kB\u001b[0m \u001b[31m2.1 MB/s\u001b[0m eta \u001b[36m0:00:00\u001b[0m\n",
            "\u001b[?25hRequirement already satisfied: annotated-types>=0.6.0 in /usr/local/lib/python3.11/dist-packages (from pydantic!=1.8,!=1.8.1,<3.0.0,>=1.7.4->thinc==8.2.5) (0.7.0)\n",
            "Requirement already satisfied: pydantic-core==2.27.2 in /usr/local/lib/python3.11/dist-packages (from pydantic!=1.8,!=1.8.1,<3.0.0,>=1.7.4->thinc==8.2.5) (2.27.2)\n",
            "Requirement already satisfied: typing-extensions>=4.12.2 in /usr/local/lib/python3.11/dist-packages (from pydantic!=1.8,!=1.8.1,<3.0.0,>=1.7.4->thinc==8.2.5) (4.12.2)\n",
            "Downloading numpy-1.26.4-cp311-cp311-manylinux_2_17_x86_64.manylinux2014_x86_64.whl (18.3 MB)\n",
            "\u001b[2K   \u001b[90m━━━━━━━━━━━━━━━━━━━━━━━━━━━━━━━━━━━━━━━━\u001b[0m \u001b[32m18.3/18.3 MB\u001b[0m \u001b[31m81.7 MB/s\u001b[0m eta \u001b[36m0:00:00\u001b[0m\n",
            "\u001b[?25hInstalling collected packages: numpy\n",
            "  Attempting uninstall: numpy\n",
            "    Found existing installation: numpy 2.0.0\n",
            "    Uninstalling numpy-2.0.0:\n",
            "      Successfully uninstalled numpy-2.0.0\n",
            "Successfully installed numpy-1.26.4\n",
            "\u001b[31mERROR: Could not find a version that satisfies the requirement mi3gpu (from versions: none)\u001b[0m\u001b[31m\n",
            "\u001b[0m\u001b[31mERROR: No matching distribution found for mi3gpu\u001b[0m\u001b[31m\n",
            "\u001b[0mRequirement already satisfied: spacy in /usr/local/lib/python3.11/dist-packages (3.7.5)\n",
            "Collecting spacy\n",
            "  Downloading spacy-3.8.4-cp311-cp311-manylinux_2_17_x86_64.manylinux2014_x86_64.whl.metadata (27 kB)\n",
            "Requirement already satisfied: spacy-legacy<3.1.0,>=3.0.11 in /usr/local/lib/python3.11/dist-packages (from spacy) (3.0.12)\n",
            "Requirement already satisfied: spacy-loggers<2.0.0,>=1.0.0 in /usr/local/lib/python3.11/dist-packages (from spacy) (1.0.5)\n",
            "Requirement already satisfied: murmurhash<1.1.0,>=0.28.0 in /usr/local/lib/python3.11/dist-packages (from spacy) (1.0.12)\n",
            "Requirement already satisfied: cymem<2.1.0,>=2.0.2 in /usr/local/lib/python3.11/dist-packages (from spacy) (2.0.11)\n",
            "Requirement already satisfied: preshed<3.1.0,>=3.0.2 in /usr/local/lib/python3.11/dist-packages (from spacy) (3.0.9)\n",
            "Collecting thinc<8.4.0,>=8.3.4 (from spacy)\n",
            "  Downloading thinc-8.3.4-cp311-cp311-manylinux_2_17_x86_64.manylinux2014_x86_64.whl.metadata (15 kB)\n",
            "Requirement already satisfied: wasabi<1.2.0,>=0.9.1 in /usr/local/lib/python3.11/dist-packages (from spacy) (1.1.3)\n",
            "Requirement already satisfied: srsly<3.0.0,>=2.4.3 in /usr/local/lib/python3.11/dist-packages (from spacy) (2.5.1)\n",
            "Requirement already satisfied: catalogue<2.1.0,>=2.0.6 in /usr/local/lib/python3.11/dist-packages (from spacy) (2.0.10)\n",
            "Requirement already satisfied: weasel<0.5.0,>=0.1.0 in /usr/local/lib/python3.11/dist-packages (from spacy) (0.4.1)\n",
            "Requirement already satisfied: typer<1.0.0,>=0.3.0 in /usr/local/lib/python3.11/dist-packages (from spacy) (0.15.1)\n",
            "Requirement already satisfied: tqdm<5.0.0,>=4.38.0 in /usr/local/lib/python3.11/dist-packages (from spacy) (4.67.1)\n",
            "Requirement already satisfied: numpy>=1.19.0 in /usr/local/lib/python3.11/dist-packages (from spacy) (1.26.4)\n",
            "Requirement already satisfied: requests<3.0.0,>=2.13.0 in /usr/local/lib/python3.11/dist-packages (from spacy) (2.32.3)\n",
            "Requirement already satisfied: pydantic!=1.8,!=1.8.1,<3.0.0,>=1.7.4 in /usr/local/lib/python3.11/dist-packages (from spacy) (2.10.6)\n",
            "Requirement already satisfied: jinja2 in /usr/local/lib/python3.11/dist-packages (from spacy) (3.1.5)\n",
            "Requirement already satisfied: setuptools in /usr/local/lib/python3.11/dist-packages (from spacy) (75.1.0)\n",
            "Requirement already satisfied: packaging>=20.0 in /usr/local/lib/python3.11/dist-packages (from spacy) (24.2)\n",
            "Requirement already satisfied: langcodes<4.0.0,>=3.2.0 in /usr/local/lib/python3.11/dist-packages (from spacy) (3.5.0)\n",
            "Requirement already satisfied: language-data>=1.2 in /usr/local/lib/python3.11/dist-packages (from langcodes<4.0.0,>=3.2.0->spacy) (1.3.0)\n",
            "Requirement already satisfied: annotated-types>=0.6.0 in /usr/local/lib/python3.11/dist-packages (from pydantic!=1.8,!=1.8.1,<3.0.0,>=1.7.4->spacy) (0.7.0)\n",
            "Requirement already satisfied: pydantic-core==2.27.2 in /usr/local/lib/python3.11/dist-packages (from pydantic!=1.8,!=1.8.1,<3.0.0,>=1.7.4->spacy) (2.27.2)\n",
            "Requirement already satisfied: typing-extensions>=4.12.2 in /usr/local/lib/python3.11/dist-packages (from pydantic!=1.8,!=1.8.1,<3.0.0,>=1.7.4->spacy) (4.12.2)\n",
            "Requirement already satisfied: charset-normalizer<4,>=2 in /usr/local/lib/python3.11/dist-packages (from requests<3.0.0,>=2.13.0->spacy) (3.4.1)\n",
            "Requirement already satisfied: idna<4,>=2.5 in /usr/local/lib/python3.11/dist-packages (from requests<3.0.0,>=2.13.0->spacy) (3.10)\n",
            "Requirement already satisfied: urllib3<3,>=1.21.1 in /usr/local/lib/python3.11/dist-packages (from requests<3.0.0,>=2.13.0->spacy) (2.3.0)\n",
            "Requirement already satisfied: certifi>=2017.4.17 in /usr/local/lib/python3.11/dist-packages (from requests<3.0.0,>=2.13.0->spacy) (2025.1.31)\n",
            "Collecting blis<1.3.0,>=1.2.0 (from thinc<8.4.0,>=8.3.4->spacy)\n",
            "  Downloading blis-1.2.0-cp311-cp311-manylinux_2_17_x86_64.manylinux2014_x86_64.whl.metadata (7.7 kB)\n",
            "Requirement already satisfied: confection<1.0.0,>=0.0.1 in /usr/local/lib/python3.11/dist-packages (from thinc<8.4.0,>=8.3.4->spacy) (0.1.5)\n",
            "Requirement already satisfied: click>=8.0.0 in /usr/local/lib/python3.11/dist-packages (from typer<1.0.0,>=0.3.0->spacy) (8.1.8)\n",
            "Requirement already satisfied: shellingham>=1.3.0 in /usr/local/lib/python3.11/dist-packages (from typer<1.0.0,>=0.3.0->spacy) (1.5.4)\n",
            "Requirement already satisfied: rich>=10.11.0 in /usr/local/lib/python3.11/dist-packages (from typer<1.0.0,>=0.3.0->spacy) (13.9.4)\n",
            "Requirement already satisfied: cloudpathlib<1.0.0,>=0.7.0 in /usr/local/lib/python3.11/dist-packages (from weasel<0.5.0,>=0.1.0->spacy) (0.20.0)\n",
            "Requirement already satisfied: smart-open<8.0.0,>=5.2.1 in /usr/local/lib/python3.11/dist-packages (from weasel<0.5.0,>=0.1.0->spacy) (7.1.0)\n",
            "Requirement already satisfied: MarkupSafe>=2.0 in /usr/local/lib/python3.11/dist-packages (from jinja2->spacy) (3.0.2)\n",
            "Requirement already satisfied: marisa-trie>=1.1.0 in /usr/local/lib/python3.11/dist-packages (from language-data>=1.2->langcodes<4.0.0,>=3.2.0->spacy) (1.2.1)\n",
            "Requirement already satisfied: markdown-it-py>=2.2.0 in /usr/local/lib/python3.11/dist-packages (from rich>=10.11.0->typer<1.0.0,>=0.3.0->spacy) (3.0.0)\n",
            "Requirement already satisfied: pygments<3.0.0,>=2.13.0 in /usr/local/lib/python3.11/dist-packages (from rich>=10.11.0->typer<1.0.0,>=0.3.0->spacy) (2.18.0)\n",
            "Requirement already satisfied: wrapt in /usr/local/lib/python3.11/dist-packages (from smart-open<8.0.0,>=5.2.1->weasel<0.5.0,>=0.1.0->spacy) (1.17.2)\n",
            "Requirement already satisfied: mdurl~=0.1 in /usr/local/lib/python3.11/dist-packages (from markdown-it-py>=2.2.0->rich>=10.11.0->typer<1.0.0,>=0.3.0->spacy) (0.1.2)\n",
            "Downloading spacy-3.8.4-cp311-cp311-manylinux_2_17_x86_64.manylinux2014_x86_64.whl (30.6 MB)\n",
            "\u001b[2K   \u001b[90m━━━━━━━━━━━━━━━━━━━━━━━━━━━━━━━━━━━━━━━━\u001b[0m \u001b[32m30.6/30.6 MB\u001b[0m \u001b[31m59.1 MB/s\u001b[0m eta \u001b[36m0:00:00\u001b[0m\n",
            "\u001b[?25hDownloading thinc-8.3.4-cp311-cp311-manylinux_2_17_x86_64.manylinux2014_x86_64.whl (3.9 MB)\n",
            "\u001b[2K   \u001b[90m━━━━━━━━━━━━━━━━━━━━━━━━━━━━━━━━━━━━━━━━\u001b[0m \u001b[32m3.9/3.9 MB\u001b[0m \u001b[31m90.4 MB/s\u001b[0m eta \u001b[36m0:00:00\u001b[0m\n",
            "\u001b[?25hDownloading blis-1.2.0-cp311-cp311-manylinux_2_17_x86_64.manylinux2014_x86_64.whl (11.7 MB)\n",
            "\u001b[2K   \u001b[90m━━━━━━━━━━━━━━━━━━━━━━━━━━━━━━━━━━━━━━━━\u001b[0m \u001b[32m11.7/11.7 MB\u001b[0m \u001b[31m78.0 MB/s\u001b[0m eta \u001b[36m0:00:00\u001b[0m\n",
            "\u001b[?25hInstalling collected packages: blis, thinc, spacy\n",
            "  Attempting uninstall: blis\n",
            "    Found existing installation: blis 0.7.11\n",
            "    Uninstalling blis-0.7.11:\n",
            "      Successfully uninstalled blis-0.7.11\n",
            "  Attempting uninstall: thinc\n",
            "    Found existing installation: thinc 8.2.5\n",
            "    Uninstalling thinc-8.2.5:\n",
            "      Successfully uninstalled thinc-8.2.5\n",
            "  Attempting uninstall: spacy\n",
            "    Found existing installation: spacy 3.7.5\n",
            "    Uninstalling spacy-3.7.5:\n",
            "      Successfully uninstalled spacy-3.7.5\n",
            "\u001b[31mERROR: pip's dependency resolver does not currently take into account all the packages that are installed. This behaviour is the source of the following dependency conflicts.\n",
            "en-core-web-sm 3.7.1 requires spacy<3.8.0,>=3.7.2, but you have spacy 3.8.4 which is incompatible.\u001b[0m\u001b[31m\n",
            "\u001b[0mSuccessfully installed blis-1.2.0 spacy-3.8.4 thinc-8.3.4\n"
          ]
        }
      ]
    },
    {
      "cell_type": "code",
      "execution_count": 3,
      "metadata": {
        "id": "clone_mi3gpu",
        "outputId": "9c6d6af6-c4a5-47e2-b67b-447045320ef3",
        "colab": {
          "base_uri": "https://localhost:8080/"
        }
      },
      "outputs": [
        {
          "output_type": "stream",
          "name": "stdout",
          "text": [
            "Cloning into 'Mi3-GPU'...\n",
            "remote: Enumerating objects: 1625, done.\u001b[K\n",
            "remote: Counting objects: 100% (342/342), done.\u001b[K\n",
            "remote: Compressing objects: 100% (124/124), done.\u001b[K\n",
            "remote: Total 1625 (delta 241), reused 308 (delta 215), pack-reused 1283 (from 1)\u001b[K\n",
            "Receiving objects: 100% (1625/1625), 874.29 KiB | 8.33 MiB/s, done.\n",
            "Resolving deltas: 100% (1149/1149), done.\n",
            "/content/Mi3-GPU\n",
            "running build_ext\n",
            "building 'mi3gpu.utils.seqtools_c' extension\n",
            "creating build/temp.linux-x86_64-cpython-311/mi3gpu/utils\n",
            "x86_64-linux-gnu-gcc -Wsign-compare -DNDEBUG -g -fwrapv -O2 -Wall -g -fstack-protector-strong -Wformat -Werror=format-security -g -fwrapv -O2 -fPIC -I/usr/local/lib/python3.11/dist-packages/numpy/core/include -I/usr/include/python3.11 -c mi3gpu/utils/seqtools.c -o build/temp.linux-x86_64-cpython-311/mi3gpu/utils/seqtools.o -O3 -Wall\n",
            "\u001b[01m\u001b[Kmi3gpu/utils/seqtools.c:\u001b[m\u001b[K In function ‘\u001b[01m\u001b[Kfiltersim\u001b[m\u001b[K’:\n",
            "\u001b[01m\u001b[Kmi3gpu/utils/seqtools.c:1066:23:\u001b[m\u001b[K \u001b[01;35m\u001b[Kwarning: \u001b[m\u001b[Kinitialization of ‘\u001b[01m\u001b[KPyObject *\u001b[m\u001b[K’ {aka ‘\u001b[01m\u001b[Kstruct _object *\u001b[m\u001b[K’} from incompatible pointer type ‘\u001b[01m\u001b[KPyArrayObject *\u001b[m\u001b[K’ {aka ‘\u001b[01m\u001b[Kstruct tagPyArrayObject *\u001b[m\u001b[K’} [\u001b[01;35m\u001b[K\u001b]8;;https://gcc.gnu.org/onlinedocs/gcc/Warning-Options.html#index-Wincompatible-pointer-types\u0007-Wincompatible-pointer-types\u001b]8;;\u0007\u001b[m\u001b[K]\n",
            " 1066 |     PyObject *seqsT = \u001b[01;35m\u001b[K(\u001b[m\u001b[KPyArrayObject*)PyArray_Transpose(seqs, NULL);\n",
            "      |                       \u001b[01;35m\u001b[K^\u001b[m\u001b[K\n",
            "In file included from \u001b[01m\u001b[K/usr/local/lib/python3.11/dist-packages/numpy/core/include/numpy/arrayobject.h:5\u001b[m\u001b[K,\n",
            "                 from \u001b[01m\u001b[Kmi3gpu/utils/seqtools.c:22\u001b[m\u001b[K:\n",
            "\u001b[01m\u001b[Kmi3gpu/utils/seqtools.c:1067:41:\u001b[m\u001b[K \u001b[01;35m\u001b[Kwarning: \u001b[m\u001b[Kpassing argument 1 of ‘\u001b[01m\u001b[K(PyObject * (*)(PyArrayObject *, NPY_ORDER))*(PyArray_API + 680)\u001b[m\u001b[K’ from incompatible pointer type [\u001b[01;35m\u001b[K\u001b]8;;https://gcc.gnu.org/onlinedocs/gcc/Warning-Options.html#index-Wincompatible-pointer-types\u0007-Wincompatible-pointer-types\u001b]8;;\u0007\u001b[m\u001b[K]\n",
            " 1067 |     seqs = (PyArrayObject*)PyArray_Copy(\u001b[01;35m\u001b[KseqsT\u001b[m\u001b[K);\n",
            "      |                                         \u001b[01;35m\u001b[K^~~~~\u001b[m\u001b[K\n",
            "      |                                         \u001b[01;35m\u001b[K|\u001b[m\u001b[K\n",
            "      |                                         \u001b[01;35m\u001b[KPyObject * {aka struct _object *}\u001b[m\u001b[K\n",
            "\u001b[01m\u001b[K/usr/local/lib/python3.11/dist-packages/numpy/core/include/numpy/ndarrayobject.h:177:43:\u001b[m\u001b[K \u001b[01;36m\u001b[Knote: \u001b[m\u001b[Kin definition of macro ‘\u001b[01m\u001b[KPyArray_Copy\u001b[m\u001b[K’\n",
            "  177 | #define PyArray_Copy(obj) PyArray_NewCopy(\u001b[01;36m\u001b[Kobj\u001b[m\u001b[K, NPY_CORDER)\n",
            "      |                                           \u001b[01;36m\u001b[K^~~\u001b[m\u001b[K\n",
            "\u001b[01m\u001b[Kmi3gpu/utils/seqtools.c:1067:41:\u001b[m\u001b[K \u001b[01;36m\u001b[Knote: \u001b[m\u001b[Kexpected ‘\u001b[01m\u001b[KPyArrayObject *\u001b[m\u001b[K’ {aka ‘\u001b[01m\u001b[Kstruct tagPyArrayObject *\u001b[m\u001b[K’} but argument is of type ‘\u001b[01m\u001b[KPyObject *\u001b[m\u001b[K’ {aka ‘\u001b[01m\u001b[Kstruct _object *\u001b[m\u001b[K’}\n",
            " 1067 |     seqs = (PyArrayObject*)PyArray_Copy(\u001b[01;36m\u001b[KseqsT\u001b[m\u001b[K);\n",
            "      |                                         \u001b[01;36m\u001b[K^~~~~\u001b[m\u001b[K\n",
            "\u001b[01m\u001b[K/usr/local/lib/python3.11/dist-packages/numpy/core/include/numpy/ndarrayobject.h:177:43:\u001b[m\u001b[K \u001b[01;36m\u001b[Knote: \u001b[m\u001b[Kin definition of macro ‘\u001b[01m\u001b[KPyArray_Copy\u001b[m\u001b[K’\n",
            "  177 | #define PyArray_Copy(obj) PyArray_NewCopy(\u001b[01;36m\u001b[Kobj\u001b[m\u001b[K, NPY_CORDER)\n",
            "      |                                           \u001b[01;36m\u001b[K^~~\u001b[m\u001b[K\n",
            "\u001b[01m\u001b[Kmi3gpu/utils/seqtools.c:1082:34:\u001b[m\u001b[K \u001b[01;35m\u001b[Kwarning: \u001b[m\u001b[Kpassing argument 1 of ‘\u001b[01m\u001b[KPyArray_DATA\u001b[m\u001b[K’ from incompatible pointer type [\u001b[01;35m\u001b[K\u001b]8;;https://gcc.gnu.org/onlinedocs/gcc/Warning-Options.html#index-Wincompatible-pointer-types\u0007-Wincompatible-pointer-types\u001b]8;;\u0007\u001b[m\u001b[K]\n",
            " 1082 |         inds_data = PyArray_DATA(\u001b[01;35m\u001b[Kinds\u001b[m\u001b[K);\n",
            "      |                                  \u001b[01;35m\u001b[K^~~~\u001b[m\u001b[K\n",
            "      |                                  \u001b[01;35m\u001b[K|\u001b[m\u001b[K\n",
            "      |                                  \u001b[01;35m\u001b[KPyObject * {aka struct _object *}\u001b[m\u001b[K\n",
            "In file included from \u001b[01m\u001b[K/usr/local/lib/python3.11/dist-packages/numpy/core/include/numpy/ndarrayobject.h:12\u001b[m\u001b[K,\n",
            "                 from \u001b[01m\u001b[K/usr/local/lib/python3.11/dist-packages/numpy/core/include/numpy/arrayobject.h:5\u001b[m\u001b[K,\n",
            "                 from \u001b[01m\u001b[Kmi3gpu/utils/seqtools.c:22\u001b[m\u001b[K:\n",
            "\u001b[01m\u001b[K/usr/local/lib/python3.11/dist-packages/numpy/core/include/numpy/ndarraytypes.h:1511:29:\u001b[m\u001b[K \u001b[01;36m\u001b[Knote: \u001b[m\u001b[Kexpected ‘\u001b[01m\u001b[KPyArrayObject *\u001b[m\u001b[K’ {aka ‘\u001b[01m\u001b[Kstruct tagPyArrayObject *\u001b[m\u001b[K’} but argument is of type ‘\u001b[01m\u001b[KPyObject *\u001b[m\u001b[K’ {aka ‘\u001b[01m\u001b[Kstruct _object *\u001b[m\u001b[K’}\n",
            " 1511 | PyArray_DATA(\u001b[01;36m\u001b[KPyArrayObject *arr\u001b[m\u001b[K)\n",
            "      |              \u001b[01;36m\u001b[K~~~~~~~~~~~~~~~^~~\u001b[m\u001b[K\n",
            "\u001b[01m\u001b[Kmi3gpu/utils/seqtools.c:1162:11:\u001b[m\u001b[K \u001b[01;35m\u001b[Kwarning: \u001b[m\u001b[Kassignment to ‘\u001b[01m\u001b[KPyObject *\u001b[m\u001b[K’ {aka ‘\u001b[01m\u001b[Kstruct _object *\u001b[m\u001b[K’} from incompatible pointer type ‘\u001b[01m\u001b[KPyArrayObject *\u001b[m\u001b[K’ {aka ‘\u001b[01m\u001b[Kstruct tagPyArrayObject *\u001b[m\u001b[K’} [\u001b[01;35m\u001b[K\u001b]8;;https://gcc.gnu.org/onlinedocs/gcc/Warning-Options.html#index-Wincompatible-pointer-types\u0007-Wincompatible-pointer-types\u001b]8;;\u0007\u001b[m\u001b[K]\n",
            " 1162 |     seqsT \u001b[01;35m\u001b[K=\u001b[m\u001b[K (PyArrayObject*)PyArray_Transpose(seqs, NULL);\n",
            "      |           \u001b[01;35m\u001b[K^\u001b[m\u001b[K\n",
            "\u001b[01m\u001b[Kmi3gpu/utils/seqtools.c:\u001b[m\u001b[K At top level:\n",
            "\u001b[01m\u001b[Kmi3gpu/utils/seqtools.c:1273:19:\u001b[m\u001b[K \u001b[01;35m\u001b[Kwarning: \u001b[m\u001b[Kinitialization of ‘\u001b[01m\u001b[KPyObject * (*)(PyObject *, PyObject *)\u001b[m\u001b[K’ {aka ‘\u001b[01m\u001b[Kstruct _object * (*)(struct _object *, struct _object *)\u001b[m\u001b[K’} from incompatible pointer type ‘\u001b[01m\u001b[KPyObject * (*)(PyObject *, PyObject *, PyObject *)\u001b[m\u001b[K’ {aka ‘\u001b[01m\u001b[Kstruct _object * (*)(struct _object *, struct _object *, struct _object *)\u001b[m\u001b[K’} [\u001b[01;35m\u001b[K\u001b]8;;https://gcc.gnu.org/onlinedocs/gcc/Warning-Options.html#index-Wincompatible-pointer-types\u0007-Wincompatible-pointer-types\u001b]8;;\u0007\u001b[m\u001b[K]\n",
            " 1273 |     {\"filtersim\", \u001b[01;35m\u001b[Kfiltersim\u001b[m\u001b[K, METH_VARARGS | METH_KEYWORDS,\n",
            "      |                   \u001b[01;35m\u001b[K^~~~~~~~~\u001b[m\u001b[K\n",
            "\u001b[01m\u001b[Kmi3gpu/utils/seqtools.c:1273:19:\u001b[m\u001b[K \u001b[01;36m\u001b[Knote: \u001b[m\u001b[K(near initialization for ‘\u001b[01m\u001b[KSeqtoolsMethods[7].ml_meth\u001b[m\u001b[K’)\n",
            "creating build/lib.linux-x86_64-cpython-311/mi3gpu/utils\n",
            "x86_64-linux-gnu-gcc -shared -Wl,-O1 -Wl,-Bsymbolic-functions -Wl,-Bsymbolic-functions -g -fwrapv -O2 build/temp.linux-x86_64-cpython-311/mi3gpu/utils/seqtools.o -L/usr/lib/x86_64-linux-gnu -o build/lib.linux-x86_64-cpython-311/mi3gpu/utils/seqtools_c.cpython-311-x86_64-linux-gnu.so\n",
            "copying build/lib.linux-x86_64-cpython-311/mi3gpu/utils/seqtools_c.cpython-311-x86_64-linux-gnu.so -> mi3gpu/utils\n"
          ]
        }
      ],
      "source": [
        "!git clone https://github.com/ahaldane/Mi3-GPU.git\n",
        "%cd Mi3-GPU\n",
        "!python3 setup.py build_ext --inplace"
      ]
    },
    {
      "source": [
        "# Install mi3gpu directly from the GitHub repository\n",
        "!pip install git+https://github.com/ahaldane/Mi3-GPU.git"
      ],
      "cell_type": "code",
      "metadata": {
        "colab": {
          "base_uri": "https://localhost:8080/"
        },
        "id": "JwFr_Bj9cCaF",
        "outputId": "c097413f-ff07-4914-d5f2-310ca5444f28"
      },
      "execution_count": 4,
      "outputs": [
        {
          "output_type": "stream",
          "name": "stdout",
          "text": [
            "Collecting git+https://github.com/ahaldane/Mi3-GPU.git\n",
            "  Cloning https://github.com/ahaldane/Mi3-GPU.git to /tmp/pip-req-build-3795jti_\n",
            "  Running command git clone --filter=blob:none --quiet https://github.com/ahaldane/Mi3-GPU.git /tmp/pip-req-build-3795jti_\n",
            "  Resolved https://github.com/ahaldane/Mi3-GPU.git to commit 76dc22f1d6403d63c86921858ee2b8170381eb15\n",
            "  Installing build dependencies ... \u001b[?25l\u001b[?25hdone\n",
            "  Getting requirements to build wheel ... \u001b[?25l\u001b[?25hdone\n",
            "  Preparing metadata (pyproject.toml) ... \u001b[?25l\u001b[?25hdone\n",
            "Collecting numpy>=2.0 (from mi3gpu==1.1.post22+git.76dc22f1.dirty)\n",
            "  Using cached numpy-2.2.3-cp311-cp311-manylinux_2_17_x86_64.manylinux2014_x86_64.whl.metadata (62 kB)\n",
            "Requirement already satisfied: scipy>=1.0.0 in /usr/local/lib/python3.11/dist-packages (from mi3gpu==1.1.post22+git.76dc22f1.dirty) (1.13.1)\n",
            "Requirement already satisfied: pyopencl in /usr/local/lib/python3.11/dist-packages (from mi3gpu==1.1.post22+git.76dc22f1.dirty) (2025.1)\n",
            "Requirement already satisfied: configargparse in /usr/local/lib/python3.11/dist-packages (from mi3gpu==1.1.post22+git.76dc22f1.dirty) (1.7)\n",
            "Requirement already satisfied: platformdirs>=2.2 in /usr/local/lib/python3.11/dist-packages (from pyopencl->mi3gpu==1.1.post22+git.76dc22f1.dirty) (4.3.6)\n",
            "Requirement already satisfied: pytools>=2024.1.5 in /usr/local/lib/python3.11/dist-packages (from pyopencl->mi3gpu==1.1.post22+git.76dc22f1.dirty) (2025.1.1)\n",
            "Requirement already satisfied: typing-extensions>=4.5 in /usr/local/lib/python3.11/dist-packages (from pytools>=2024.1.5->pyopencl->mi3gpu==1.1.post22+git.76dc22f1.dirty) (4.12.2)\n",
            "Using cached numpy-2.2.3-cp311-cp311-manylinux_2_17_x86_64.manylinux2014_x86_64.whl (16.4 MB)\n",
            "Building wheels for collected packages: mi3gpu\n",
            "  Building wheel for mi3gpu (pyproject.toml) ... \u001b[?25l\u001b[?25hdone\n",
            "  Created wheel for mi3gpu: filename=mi3gpu-1.1.post22+git.76dc22f1.dirty-cp311-cp311-linux_x86_64.whl size=163423 sha256=0a8ca7ac4ed2b0574a1c1f8e6a570d771668c0027885200d9a73190fedeee610\n",
            "  Stored in directory: /tmp/pip-ephem-wheel-cache-lbpgxezc/wheels/e2/d8/8d/6427c9d5bb25172620d77740f593d9e8a542140095a48df1ed\n",
            "Successfully built mi3gpu\n",
            "Installing collected packages: numpy, mi3gpu\n",
            "  Attempting uninstall: numpy\n",
            "    Found existing installation: numpy 1.26.4\n",
            "    Uninstalling numpy-1.26.4:\n",
            "      Successfully uninstalled numpy-1.26.4\n",
            "\u001b[31mERROR: pip's dependency resolver does not currently take into account all the packages that are installed. This behaviour is the source of the following dependency conflicts.\n",
            "en-core-web-sm 3.7.1 requires spacy<3.8.0,>=3.7.2, but you have spacy 3.8.4 which is incompatible.\n",
            "numba 0.61.0 requires numpy<2.2,>=1.24, but you have numpy 2.2.3 which is incompatible.\n",
            "gensim 4.3.3 requires numpy<2.0,>=1.18.5, but you have numpy 2.2.3 which is incompatible.\n",
            "tensorflow 2.18.0 requires numpy<2.1.0,>=1.26.0, but you have numpy 2.2.3 which is incompatible.\n",
            "langchain 0.3.18 requires numpy<2,>=1.26.4; python_version < \"3.12\", but you have numpy 2.2.3 which is incompatible.\n",
            "pytensor 2.27.1 requires numpy<2,>=1.17.0, but you have numpy 2.2.3 which is incompatible.\u001b[0m\u001b[31m\n",
            "\u001b[0mSuccessfully installed mi3gpu-1.1.post22+git.76dc22f1.dirty numpy-2.2.3\n"
          ]
        }
      ]
    },
    {
      "cell_type": "code",
      "execution_count": 5,
      "metadata": {
        "id": "clone_random123",
        "outputId": "61e0fa29-8d60-4bac-a164-c6745e87c07b",
        "colab": {
          "base_uri": "https://localhost:8080/"
        }
      },
      "outputs": [
        {
          "output_type": "stream",
          "name": "stdout",
          "text": [
            "/content/Mi3-GPU/extras\n",
            "Cloning into 'Random123'...\n",
            "remote: Enumerating objects: 2422, done.\u001b[K\n",
            "remote: Counting objects: 100% (2422/2422), done.\u001b[K\n",
            "remote: Compressing objects: 100% (374/374), done.\u001b[K\n",
            "remote: Total 2422 (delta 2070), reused 2342 (delta 1992), pack-reused 0 (from 0)\u001b[K\n",
            "Receiving objects: 100% (2422/2422), 1.98 MiB | 12.88 MiB/s, done.\n",
            "Resolving deltas: 100% (2070/2070), done.\n"
          ]
        }
      ],
      "source": [
        "%cd extras\n",
        "!git clone https://github.com/DEShawResearch/Random123.git\n",
        "!cp -r Random123/include/Random123/ ./"
      ]
    },
    {
      "cell_type": "code",
      "execution_count": 6,
      "metadata": {
        "id": "compile_c",
        "outputId": "28945439-b0b3-4145-dc9f-1824722e2bbe",
        "colab": {
          "base_uri": "https://localhost:8080/"
        }
      },
      "outputs": [
        {
          "output_type": "stream",
          "name": "stdout",
          "text": [
            "/content/Mi3-GPU/extras\n"
          ]
        }
      ],
      "source": [
        "%cd /content/Mi3-GPU/extras/\n",
        "!sed -i 's/%d)/%zu)/g' mcmcCPUgenThreaded.c\n",
        "!gcc -O3 mcmcCPUgenThreaded.c -lm -o cpu"
      ]
    },
    {
      "cell_type": "markdown",
      "metadata": {
        "id": "sBEEoGdhZ-1Z"
      },
      "source": [
        "## Load Input Sequence File"
      ]
    },
    {
      "cell_type": "code",
      "execution_count": 7,
      "metadata": {
        "id": "upload_fasta",
        "outputId": "d17d7526-e60a-40bb-b210-b47af2e6ecd9",
        "colab": {
          "base_uri": "https://localhost:8080/",
          "height": 73
        }
      },
      "outputs": [
        {
          "output_type": "display_data",
          "data": {
            "text/plain": [
              "<IPython.core.display.HTML object>"
            ],
            "text/html": [
              "\n",
              "     <input type=\"file\" id=\"files-fe667ffb-efe6-4698-8168-20b00566e551\" name=\"files[]\" multiple disabled\n",
              "        style=\"border:none\" />\n",
              "     <output id=\"result-fe667ffb-efe6-4698-8168-20b00566e551\">\n",
              "      Upload widget is only available when the cell has been executed in the\n",
              "      current browser session. Please rerun this cell to enable.\n",
              "      </output>\n",
              "      <script>// Copyright 2017 Google LLC\n",
              "//\n",
              "// Licensed under the Apache License, Version 2.0 (the \"License\");\n",
              "// you may not use this file except in compliance with the License.\n",
              "// You may obtain a copy of the License at\n",
              "//\n",
              "//      http://www.apache.org/licenses/LICENSE-2.0\n",
              "//\n",
              "// Unless required by applicable law or agreed to in writing, software\n",
              "// distributed under the License is distributed on an \"AS IS\" BASIS,\n",
              "// WITHOUT WARRANTIES OR CONDITIONS OF ANY KIND, either express or implied.\n",
              "// See the License for the specific language governing permissions and\n",
              "// limitations under the License.\n",
              "\n",
              "/**\n",
              " * @fileoverview Helpers for google.colab Python module.\n",
              " */\n",
              "(function(scope) {\n",
              "function span(text, styleAttributes = {}) {\n",
              "  const element = document.createElement('span');\n",
              "  element.textContent = text;\n",
              "  for (const key of Object.keys(styleAttributes)) {\n",
              "    element.style[key] = styleAttributes[key];\n",
              "  }\n",
              "  return element;\n",
              "}\n",
              "\n",
              "// Max number of bytes which will be uploaded at a time.\n",
              "const MAX_PAYLOAD_SIZE = 100 * 1024;\n",
              "\n",
              "function _uploadFiles(inputId, outputId) {\n",
              "  const steps = uploadFilesStep(inputId, outputId);\n",
              "  const outputElement = document.getElementById(outputId);\n",
              "  // Cache steps on the outputElement to make it available for the next call\n",
              "  // to uploadFilesContinue from Python.\n",
              "  outputElement.steps = steps;\n",
              "\n",
              "  return _uploadFilesContinue(outputId);\n",
              "}\n",
              "\n",
              "// This is roughly an async generator (not supported in the browser yet),\n",
              "// where there are multiple asynchronous steps and the Python side is going\n",
              "// to poll for completion of each step.\n",
              "// This uses a Promise to block the python side on completion of each step,\n",
              "// then passes the result of the previous step as the input to the next step.\n",
              "function _uploadFilesContinue(outputId) {\n",
              "  const outputElement = document.getElementById(outputId);\n",
              "  const steps = outputElement.steps;\n",
              "\n",
              "  const next = steps.next(outputElement.lastPromiseValue);\n",
              "  return Promise.resolve(next.value.promise).then((value) => {\n",
              "    // Cache the last promise value to make it available to the next\n",
              "    // step of the generator.\n",
              "    outputElement.lastPromiseValue = value;\n",
              "    return next.value.response;\n",
              "  });\n",
              "}\n",
              "\n",
              "/**\n",
              " * Generator function which is called between each async step of the upload\n",
              " * process.\n",
              " * @param {string} inputId Element ID of the input file picker element.\n",
              " * @param {string} outputId Element ID of the output display.\n",
              " * @return {!Iterable<!Object>} Iterable of next steps.\n",
              " */\n",
              "function* uploadFilesStep(inputId, outputId) {\n",
              "  const inputElement = document.getElementById(inputId);\n",
              "  inputElement.disabled = false;\n",
              "\n",
              "  const outputElement = document.getElementById(outputId);\n",
              "  outputElement.innerHTML = '';\n",
              "\n",
              "  const pickedPromise = new Promise((resolve) => {\n",
              "    inputElement.addEventListener('change', (e) => {\n",
              "      resolve(e.target.files);\n",
              "    });\n",
              "  });\n",
              "\n",
              "  const cancel = document.createElement('button');\n",
              "  inputElement.parentElement.appendChild(cancel);\n",
              "  cancel.textContent = 'Cancel upload';\n",
              "  const cancelPromise = new Promise((resolve) => {\n",
              "    cancel.onclick = () => {\n",
              "      resolve(null);\n",
              "    };\n",
              "  });\n",
              "\n",
              "  // Wait for the user to pick the files.\n",
              "  const files = yield {\n",
              "    promise: Promise.race([pickedPromise, cancelPromise]),\n",
              "    response: {\n",
              "      action: 'starting',\n",
              "    }\n",
              "  };\n",
              "\n",
              "  cancel.remove();\n",
              "\n",
              "  // Disable the input element since further picks are not allowed.\n",
              "  inputElement.disabled = true;\n",
              "\n",
              "  if (!files) {\n",
              "    return {\n",
              "      response: {\n",
              "        action: 'complete',\n",
              "      }\n",
              "    };\n",
              "  }\n",
              "\n",
              "  for (const file of files) {\n",
              "    const li = document.createElement('li');\n",
              "    li.append(span(file.name, {fontWeight: 'bold'}));\n",
              "    li.append(span(\n",
              "        `(${file.type || 'n/a'}) - ${file.size} bytes, ` +\n",
              "        `last modified: ${\n",
              "            file.lastModifiedDate ? file.lastModifiedDate.toLocaleDateString() :\n",
              "                                    'n/a'} - `));\n",
              "    const percent = span('0% done');\n",
              "    li.appendChild(percent);\n",
              "\n",
              "    outputElement.appendChild(li);\n",
              "\n",
              "    const fileDataPromise = new Promise((resolve) => {\n",
              "      const reader = new FileReader();\n",
              "      reader.onload = (e) => {\n",
              "        resolve(e.target.result);\n",
              "      };\n",
              "      reader.readAsArrayBuffer(file);\n",
              "    });\n",
              "    // Wait for the data to be ready.\n",
              "    let fileData = yield {\n",
              "      promise: fileDataPromise,\n",
              "      response: {\n",
              "        action: 'continue',\n",
              "      }\n",
              "    };\n",
              "\n",
              "    // Use a chunked sending to avoid message size limits. See b/62115660.\n",
              "    let position = 0;\n",
              "    do {\n",
              "      const length = Math.min(fileData.byteLength - position, MAX_PAYLOAD_SIZE);\n",
              "      const chunk = new Uint8Array(fileData, position, length);\n",
              "      position += length;\n",
              "\n",
              "      const base64 = btoa(String.fromCharCode.apply(null, chunk));\n",
              "      yield {\n",
              "        response: {\n",
              "          action: 'append',\n",
              "          file: file.name,\n",
              "          data: base64,\n",
              "        },\n",
              "      };\n",
              "\n",
              "      let percentDone = fileData.byteLength === 0 ?\n",
              "          100 :\n",
              "          Math.round((position / fileData.byteLength) * 100);\n",
              "      percent.textContent = `${percentDone}% done`;\n",
              "\n",
              "    } while (position < fileData.byteLength);\n",
              "  }\n",
              "\n",
              "  // All done.\n",
              "  yield {\n",
              "    response: {\n",
              "      action: 'complete',\n",
              "    }\n",
              "  };\n",
              "}\n",
              "\n",
              "scope.google = scope.google || {};\n",
              "scope.google.colab = scope.google.colab || {};\n",
              "scope.google.colab._files = {\n",
              "  _uploadFiles,\n",
              "  _uploadFilesContinue,\n",
              "};\n",
              "})(self);\n",
              "</script> "
            ]
          },
          "metadata": {}
        },
        {
          "output_type": "stream",
          "name": "stdout",
          "text": [
            "Saving B_Potts_Fasta.fasta to B_Potts_Fasta.fasta\n"
          ]
        }
      ],
      "source": [
        "from google.colab import files\n",
        "uploaded = files.upload()\n",
        "fasta_file = list(uploaded.keys())[0]\n",
        "!cp {fasta_file} PF00018_full.txt"
      ]
    },
    {
      "cell_type": "code",
      "execution_count": 14,
      "metadata": {
        "id": "convert_fasta"
      },
      "outputs": [],
      "source": [
        "import re\n",
        "\n",
        "alpha = '-ACDEFGHIKLMNPQRSTVWY'\n",
        "\n",
        "with open(\"PF00018_full.txt\", \"r\") as fin:\n",
        "    seqs = [re.sub('[a-z.]', '', r.split()[-1]) for r in fin if not (r.startswith('#') or r.startswith('/'))]\n",
        "\n",
        "seqs = [s for s in seqs if all(c in alpha for c in s)]\n",
        "\n",
        "with open(\"seqs21_raw\", \"wt\") as fout:\n",
        "    fout.write(\"\\n\".join(seqs))"
      ]
    },
    {
      "cell_type": "code",
      "execution_count": 9,
      "metadata": {
        "id": "filter_seqs",
        "outputId": "af42ab26-cc36-452b-ce7b-fbdf0df9eddf",
        "colab": {
          "base_uri": "https://localhost:8080/"
        }
      },
      "outputs": [
        {
          "output_type": "stream",
          "name": "stdout",
          "text": [
            "N: 12677   L: 85\n"
          ]
        }
      ],
      "source": [
        "import mi3gpu.utils.seqload as seqload\n",
        "import numpy as np\n",
        "\n",
        "seqs = seqload.loadSeqs('seqs21_raw')[0]\n",
        "nseq, L = seqs.shape\n",
        "\n",
        "# Remove columns with > 10% gaps\n",
        "col_gap_pct = np.sum(seqs == 0, axis=0) / float(nseq)\n",
        "seqs = seqs[:, col_gap_pct < 0.1]\n",
        "\n",
        "# Remove sequences with > 10% gaps\n",
        "seq_gap_pct = np.sum(seqs == 0, axis=1) / float(L)\n",
        "seqs = seqs[seq_gap_pct < 0.1, :]\n",
        "\n",
        "print(\"N: {}   L: {}\".format(*seqs.shape))\n",
        "\n",
        "seqload.writeSeqs('seqs21', seqs)"
      ]
    },
    {
      "cell_type": "code",
      "execution_count": 10,
      "metadata": {
        "id": "compute_weights"
      },
      "outputs": [],
      "source": [
        "phy = 0.4\n",
        "weights = np.ones(len(seqs))\n",
        "np.save(f'weights{phy}.npy', weights)"
      ]
    },
    {
      "cell_type": "code",
      "execution_count": 11,
      "metadata": {
        "id": "compute_neff"
      },
      "outputs": [],
      "source": [
        "Neff = len(seqs)\n",
        "with open(f'Neff{phy}.txt', 'w') as f:\n",
        "    f.write(str(Neff))"
      ]
    },
    {
      "cell_type": "code",
      "execution_count": 12,
      "metadata": {
        "id": "run_mi3",
        "outputId": "368f1d93-6bf3-4678-c8b6-6baf6ba7a814",
        "colab": {
          "base_uri": "https://localhost:8080/"
        }
      },
      "outputs": [
        {
          "output_type": "stream",
          "name": "stdout",
          "text": [
            "/content/Mi3-GPU/mi3gpu/Mi3.py:30: DeprecationWarning: pkg_resources is deprecated as an API. See https://setuptools.pypa.io/en/latest/pkg_resources.html\n",
            "  import pkg_resources  # part of setuptools\n",
            "Wrote config file to inference_output/config.cfg\n",
            "Traceback (most recent call last):\n",
            "  File \"/content/Mi3-GPU/mi3gpu/Mi3.py\", line 1402, in <module>\n",
            "    main()\n",
            "  File \"/content/Mi3-GPU/mi3gpu/Mi3.py\", line 1399, in main\n",
            "    actions[known_args.action](args, remaining_args, print)\n",
            "  File \"/content/Mi3-GPU/mi3gpu/Mi3.py\", line 412, in inverseIsing\n",
            "    requireargs(args, 'bimarg alpha')\n",
            "  File \"/content/Mi3-GPU/mi3gpu/Mi3.py\", line 208, in requireargs\n",
            "    raise Exception(r\"error: argument --{r} is required\")\n",
            "Exception: error: argument --{r} is required\n",
            "Exited at 2025-02-17 20:18:11.020998\n"
          ]
        }
      ],
      "source": [
        "Mi3_path = '/content/Mi3-GPU/mi3gpu/Mi3.py'\n",
        "bim = 'bim21Jeff.npy'\n",
        "outdir = 'inference_output'\n",
        "!python3 -u {Mi3_path} infer --bimarg {bim} --init_model independent --nwalkers 262144 --mcsteps 64 --reg l1z:0.0001 --outdir {outdir}"
      ]
    },
    {
      "source": [
        "Mi3_path = '/content/Mi3-GPU/mi3gpu/Mi3.py'\n",
        "bim = 'bim21Jeff.npy'\n",
        "outdir = 'inference_output'\n",
        "\n",
        "import os\n",
        "import shutil\n",
        "\n",
        "# Check if the output directory exists\n",
        "if os.path.exists(outdir):\n",
        "    # If it exists, either remove it or rename it\n",
        "    # Option 1: Remove the directory (use with caution!)\n",
        "    # shutil.rmtree(outdir)\n",
        "\n",
        "    # Option 2: Rename the directory to a unique name\n",
        "    i = 1\n",
        "    while os.path.exists(f\"{outdir}_{i}\"):\n",
        "        i += 1\n",
        "    outdir = f\"{outdir}_{i}\"\n",
        "    print(f\"Output directory renamed to: {outdir}\")\n",
        "\n",
        "# Now you can safely create the directory\n",
        "!python3 -u {Mi3_path} infer --bimarg {bim} --init_model independent --nwalkers 262144 --mcsteps 64 --reg l1z:0.0001 --outdir {outdir}"
      ],
      "cell_type": "code",
      "metadata": {
        "id": "GlrMcC27efuN",
        "outputId": "9b3d92fb-ac16-4d5a-d6bf-f31fd96b1d8f",
        "colab": {
          "base_uri": "https://localhost:8080/"
        }
      },
      "execution_count": 13,
      "outputs": [
        {
          "output_type": "stream",
          "name": "stdout",
          "text": [
            "Output directory renamed to: inference_output_1\n",
            "/content/Mi3-GPU/mi3gpu/Mi3.py:30: DeprecationWarning: pkg_resources is deprecated as an API. See https://setuptools.pypa.io/en/latest/pkg_resources.html\n",
            "  import pkg_resources  # part of setuptools\n",
            "Wrote config file to inference_output_1/config.cfg\n",
            "Traceback (most recent call last):\n",
            "  File \"/content/Mi3-GPU/mi3gpu/Mi3.py\", line 1402, in <module>\n",
            "    main()\n",
            "  File \"/content/Mi3-GPU/mi3gpu/Mi3.py\", line 1399, in main\n",
            "    actions[known_args.action](args, remaining_args, print)\n",
            "  File \"/content/Mi3-GPU/mi3gpu/Mi3.py\", line 412, in inverseIsing\n",
            "    requireargs(args, 'bimarg alpha')\n",
            "  File \"/content/Mi3-GPU/mi3gpu/Mi3.py\", line 208, in requireargs\n",
            "    raise Exception(r\"error: argument --{r} is required\")\n",
            "Exception: error: argument --{r} is required\n",
            "Exited at 2025-02-17 19:54:38.930768\n"
          ]
        }
      ]
    },
    {
      "source": [
        "Mi3_path = '/content/Mi3-GPU/mi3gpu/Mi3.py'\n",
        "bim = 'bim21Jeff.npy'\n",
        "outdir = 'inference_output'\n",
        "\n",
        "import os\n",
        "import shutil\n",
        "\n",
        "# Check if the output directory exists\n",
        "if os.path.exists(outdir):\n",
        "    # If it exists, either remove it or rename it\n",
        "    # Option 1: Remove the directory (use with caution!)\n",
        "    # shutil.rmtree(outdir)\n",
        "\n",
        "    # Option 2: Rename the directory to a unique name\n",
        "    i = 1\n",
        "    while os.path.exists(f\"{outdir}_{i}\"):\n",
        "        i += 1\n",
        "    outdir = f\"{outdir}_{i}\"\n",
        "    print(f\"Output directory renamed to: {outdir}\")\n",
        "\n",
        "# Now you can safely create the directory\n",
        "!python3 -u {Mi3_path} infer --bimarg {bim} --init_model independent --nwalkers 262144 --mcsteps 64 --reg l1z:0.0001 --outdir {outdir}"
      ],
      "cell_type": "code",
      "metadata": {
        "id": "oTjMPRNteuYn",
        "outputId": "70442726-91ec-4441-ad74-4c515a6f94f3",
        "colab": {
          "base_uri": "https://localhost:8080/"
        }
      },
      "execution_count": 14,
      "outputs": [
        {
          "output_type": "stream",
          "name": "stdout",
          "text": [
            "Output directory renamed to: inference_output_2\n",
            "/content/Mi3-GPU/mi3gpu/Mi3.py:30: DeprecationWarning: pkg_resources is deprecated as an API. See https://setuptools.pypa.io/en/latest/pkg_resources.html\n",
            "  import pkg_resources  # part of setuptools\n",
            "Wrote config file to inference_output_2/config.cfg\n",
            "Traceback (most recent call last):\n",
            "  File \"/content/Mi3-GPU/mi3gpu/Mi3.py\", line 1402, in <module>\n",
            "    main()\n",
            "  File \"/content/Mi3-GPU/mi3gpu/Mi3.py\", line 1399, in main\n",
            "    actions[known_args.action](args, remaining_args, print)\n",
            "  File \"/content/Mi3-GPU/mi3gpu/Mi3.py\", line 412, in inverseIsing\n",
            "    requireargs(args, 'bimarg alpha')\n",
            "  File \"/content/Mi3-GPU/mi3gpu/Mi3.py\", line 208, in requireargs\n",
            "    raise Exception(r\"error: argument --{r} is required\")\n",
            "Exception: error: argument --{r} is required\n",
            "Exited at 2025-02-17 19:55:34.639113\n"
          ]
        }
      ]
    },
    {
      "source": [
        "Mi3_path = '/content/Mi3-GPU/mi3gpu/Mi3.py'\n",
        "bim = 'bim21Jeff.npy'\n",
        "outdir = 'inference_output'\n",
        "\n",
        "import os\n",
        "import shutil\n",
        "\n",
        "# Check if the output directory exists\n",
        "if os.path.exists(outdir):\n",
        "    # If it exists, either remove it or rename it\n",
        "    # Option 1: Remove the directory (use with caution!)\n",
        "    # shutil.rmtree(outdir)\n",
        "\n",
        "    # Option 2: Rename the directory to a unique name\n",
        "    i = 1\n",
        "    while os.path.exists(f\"{outdir}_{i}\"):\n",
        "        i += 1\n",
        "    outdir = f\"{outdir}_{i}\"\n",
        "    print(f\"Output directory renamed to: {outdir}\")\n",
        "\n",
        "# Now you can safely create the directory\n",
        "!python3 -u {Mi3_path} infer --bimarg {bim} --alpha 21 --init_model independent --nwalkers 262144 --mcsteps 64 --reg l1z:0.0001 --outdir {outdir}"
      ],
      "cell_type": "code",
      "metadata": {
        "id": "JUN5udOXe-up",
        "outputId": "a98efe03-2516-408a-c876-e23b1b70d174",
        "colab": {
          "base_uri": "https://localhost:8080/"
        }
      },
      "execution_count": 13,
      "outputs": [
        {
          "output_type": "stream",
          "name": "stdout",
          "text": [
            "Output directory renamed to: inference_output_1\n",
            "/content/Mi3-GPU/mi3gpu/Mi3.py:30: DeprecationWarning: pkg_resources is deprecated as an API. See https://setuptools.pypa.io/en/latest/pkg_resources.html\n",
            "  import pkg_resources  # part of setuptools\n",
            "Wrote config file to inference_output_1/config.cfg\n",
            "Traceback (most recent call last):\n",
            "  File \"/content/Mi3-GPU/mi3gpu/Mi3.py\", line 1402, in <module>\n",
            "    main()\n",
            "  File \"/content/Mi3-GPU/mi3gpu/Mi3.py\", line 1399, in main\n",
            "    actions[known_args.action](args, remaining_args, print)\n",
            "  File \"/content/Mi3-GPU/mi3gpu/Mi3.py\", line 433, in inverseIsing\n",
            "    p.update(process_newton_args(args, log))\n",
            "             ^^^^^^^^^^^^^^^^^^^^^^^^^^^^^^\n",
            "  File \"/content/Mi3-GPU/mi3gpu/Mi3.py\", line 1028, in process_newton_args\n",
            "    bimarg = np.load(args.bimarg)\n",
            "             ^^^^^^^^^^^^^^^^^^^^\n",
            "  File \"/usr/local/lib/python3.11/dist-packages/numpy/lib/_npyio_impl.py\", line 451, in load\n",
            "    fid = stack.enter_context(open(os.fspath(file), \"rb\"))\n",
            "                              ^^^^^^^^^^^^^^^^^^^^^^^^^^^\n",
            "FileNotFoundError: [Errno 2] No such file or directory: 'bim21Jeff.npy'\n",
            "Exited at 2025-02-17 20:18:12.244209\n"
          ]
        }
      ]
    }
  ],
  "metadata": {
    "colab": {
      "provenance": []
    },
    "kernelspec": {
      "display_name": "Python 3",
      "name": "python3"
    },
    "language_info": {
      "name": "python"
    }
  },
  "nbformat": 4,
  "nbformat_minor": 0
}