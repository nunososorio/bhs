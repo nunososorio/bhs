{
 "cells": [
  {
   "cell_type": "markdown",
   "id": "52794baf",
   "metadata": {},
   "source": [
    "### ***AI-Assisted Programming Session - \"We Will Always Have Paris\"*** 🌳💻\n",
    "**Ana Pereira & Nuno S. Osório**\n",
    "**Bioinformatics in Health Sciences 2025**\n",
    "**12 Feb 2025**"
   ]
  },
  {
   "cell_type": "markdown",
   "id": "1396ffb2",
   "metadata": {},
   "source": [
    "***Let's understand and test some code!*** 🧐"
   ]
  },
  {
   "cell_type": "markdown",
   "id": "f89dc745",
   "metadata": {},
   "source": [
    "Let's begin by exploring a dataset containing information about all the trees in Paris. 🌳🌳🌳\n",
    "Run the code below to download the dataset to Colab and your computer. ⬇️"
   ]
  },
  {
   "cell_type": "code",
   "execution_count": null,
   "id": "683f4b5c",
   "metadata": {},
   "outputs": [],
   "source": [
    "# Install the google.colab library (if not already installed)\n",
    "!pip install google-colab\n",
    "\n",
    "# Download the file using wget\n",
    "!wget https://raw.githubusercontent.com/nunososorio/medicaldatascience/main/les-arbres.xlsx\n",
    "\n",
    "# Import the files module from google.colab\n",
    "from google.colab import files\n",
    "\n",
    "# Download the file to your local computer\n",
    "files.download('les-arbres.xlsx')"
   ]
  },
  {
   "cell_type": "markdown",
   "id": "8bfdfcdb",
   "metadata": {},
   "source": [
    "Open the Excel file (or any other program you prefer) to explore the data. Answer these questions based on the file:\n",
    "1.  ***How many trees*** 🌲 are there in Paris?\n",
    "2.  ***What is the height*** (in meters) of the tallest tree? 📏\n",
    "3.  ***What is the circumference*** (in cm) of the thickest tree? 🌳\n",
    "4.  ***What is the average size*** of the trees in Paris? 📏\n",
    "5.  ***What is the average circumference*** of the trees in Paris? 📏"
   ]
  },
  {
   "cell_type": "markdown",
   "id": "09b4cf74",
   "metadata": {},
   "source": [
    "Now, let's achieve the same results using Python code and AI assistance! 🤖 Ask your favorite LLM (Large Language Model) this: \"*Write a Python script that imports pandas, reads an Excel file named 'les-arbres.xlsx' into a DataFrame, and prints the summary statistics of the data using describe().*\" Paste and run the code in the cell below."
   ]
  },
  {
   "cell_type": "code",
   "execution_count": null,
   "id": "a5e119fa",
   "metadata": {},
   "outputs": [],
   "source": [
    "# Add the code here"
   ]
  },
  {
   "cell_type": "markdown",
   "id": "bcc6942e",
   "metadata": {},
   "source": [
    "***Use AI explanations and other resources*** to understand what the code does and what the results mean. 🤔"
   ]
  },
  {
   "attachments": {},
   "cell_type": "markdown",
   "id": "8781472f",
   "metadata": {},
   "source": [
    "\"Arrondissement\" is a French term referring to an administrative district. Paris has 20 arrondissements, spiraling outward from the city center. ***Which district has the most trees?*** 🌲\n",
    "When the VR googles are free, take the opportunity to visualize a 3D model of the data and try to answer this question.\n",
    "![image.png](attachment:image.png)\n"
   ]
  },
  {
   "cell_type": "markdown",
   "id": "a86bbbb4",
   "metadata": {},
   "source": [
    "Now, prompt the AI with this: \"*Analyze the trees_df DataFrame (containing tree data for Paris, with an 'ARRONDISSEMENT' column) using Pandas. Count the number of trees per arrondissement, sort the counts in descending order, store the result in arrondissement_counts, and print it. Assume trees_df is pre-loaded.*\""
   ]
  },
  {
   "cell_type": "code",
   "execution_count": null,
   "id": "db0de36f",
   "metadata": {},
   "outputs": [],
   "source": [
    "#add your code here"
   ]
  },
  {
   "cell_type": "markdown",
   "id": "eaca77ad",
   "metadata": {},
   "source": [
    "Now, try to adapt the code to count the types of trees by their common name (**'LIBELLE FRANCAIS'**).  ***Do this WITHOUT AI assistance*** 🤓 – test your coding skills!"
   ]
  },
  {
   "cell_type": "code",
   "execution_count": null,
   "id": "28b981f4",
   "metadata": {},
   "outputs": [],
   "source": [
    "# Add the code here"
   ]
  },
  {
   "cell_type": "markdown",
   "id": "d9b7194a",
   "metadata": {},
   "source": [
    "***Use AI explanations and other resources*** to understand what the code does and what the results represent. 🤔"
   ]
  },
  {
   "cell_type": "markdown",
   "id": "5582ee01",
   "metadata": {},
   "source": [
    "You now want to generate an interactive map pinpointing each tree. You have one problem: the latitude and longitude are combined in one column... 🗺️📍"
   ]
  },
  {
   "cell_type": "markdown",
   "id": "17b0967a",
   "metadata": {},
   "source": [
    "Sara is planning a holiday to Paris in early summer. This time of year, unfortunately, coincides with the flowering period of *Zanthoxylum* trees. Sara has a rare and severe allergy specifically to the pollen of these trees. *To help her manage her allergy during her trip, could you please investigate whether Zanthoxylum trees are found in Paris and identify the specific districts she should avoid, if possible?* 🤧\n",
    "\n",
    "***Use AI assistance and the prompts we think will be most effective.***"
   ]
  },
  {
   "cell_type": "code",
   "execution_count": null,
   "id": "f8f041b3",
   "metadata": {},
   "outputs": [],
   "source": [
    "# Add the code here"
   ]
  },
     {
   "cell_type": "markdown",
    "source": [
    "### ***Bonus Exercises (For the Fastest Students!)*** 🏆\n",
   "1.  **Most Common Tree Species:**  What is the most common *genus* of tree in Paris, and how many trees of that genus are there? (Hint: Use `value_counts()` and `idxmax()`).\n",
    "2.  **Tallest Trees by Arrondissement:**  Find the height of the tallest tree in *each* arrondissement. (Hint: Use `groupby()` and `max()`).\n",
   "3.  **Average Circumference by Species:** Calculate the average circumference of each tree species (using 'LIBELLE FRANCAIS'). (Hint: Use `groupby()` and `mean()`).\n",
        "4. **Create a new column with a normalized tree heigh.** Create a new column by normalizing the tree heights from 0 to 1, where 0 is the shortest and 1 is tallest. (Hint: use the function *normalize = lambda x: (x - x.min()) / (x.max() - x.min())* and apply it to the column. "
   ],
   "id": "bonus-exercises",
   "metadata": {}
  }
 ],
 "metadata": {
  "kernelspec": {
   "display_name": "Python 3",
   "language": "python",
   "name": "python3"
  },
  "language_info": {
   "codemirror_mode": {
    "name": "ipython",
    "version": 3
   },
   "file_extension": ".py",
   "mimetype": "text/x-python",
   "name": "python",
   "nbconvert_exporter": "python",
   "pygments_lexer": "ipython3",
   "version": "3.11.0"
  }
 },
 "nbformat": 4,
 "nbformat_minor": 5
}
