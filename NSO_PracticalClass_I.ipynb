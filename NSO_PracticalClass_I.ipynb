{
  "cells": [
    {
      "cell_type": "markdown",
      "metadata": {
        "id": "view-in-github",
        "colab_type": "text"
      },
      "source": [
        "<a href=\"https://colab.research.google.com/github/nunososorio/bhs/blob/main/NSO_PracticalClass_I.ipynb\" target=\"_parent\"><img src=\"https://colab.research.google.com/assets/colab-badge.svg\" alt=\"Open In Colab\"/></a>"
      ]
    },
    {
      "cell_type": "markdown",
      "metadata": {
        "id": "wdyMcbYcb2lq"
      },
      "source": [
        "# Practical Training: The Role of Databases in Drug Discovery\n",
        "\n",
        "By **Nuno S. Osório** 🖋️\n",
        "\n",
        "👋 Welcome to this tutorial! We will explore how to access and use drug-related databases. We will focus on retrieving data from **ChEMBL** using their respective Python packages, and then analyze the retrieved data. This tutorial is designed to be run on jupyter notebook environments and includes exercises that involve running Python code. 🐍💻\n",
        "\n",
        "You can access an interactive cloud version of the notebook here (https://colab.research.google.com/github/nunososorio/bhs/blob/main/NSO_PracticalClass_I.ipynb).\n",
        "\n",
        "Let's dive in! 🏊‍♂️\n"
      ]
    },
    {
      "cell_type": "markdown",
      "metadata": {
        "id": "2HcWEHJTcYtF"
      },
      "source": [
        "## Introduction\n",
        "\n",
        "The use of databases is crucial in the steps of **Target-to-Hit** and **Hit-to-Lead** in drug discovery. 🎯💊 These databases provide a wealth of information about potential drug targets and the compounds that could interact with these targets. Accessing and analyzing this data can help in the identification of potential new drugs. 🧪🔬\n",
        "\n",
        "Accessing these databases can be done via their respective websites. However, for reproducible and large-scale analysis, accessing the database programmatically via code is more efficient. In this tutorial, we will guide you on how to do this. 🖥️📚\n",
        "\n",
        "The **ChEMBL** database is a manually curated database of bioactive molecules with drug-like properties. It brings together chemical, bioactivity and genomic data to aid the translation of genomic information into effective new drugs. 🧬💡\n",
        "\n",
        "The `chembl_webresource_client` is the official Python client library for accessing ChEMBL data. 🐍📦\n"
      ]
    },
    {
      "cell_type": "markdown",
      "metadata": {
        "id": "SO7GUg2GdI9X"
      },
      "source": [
        "## Setup\n",
        "First, we need to install the necessary Python packages. Run the following commands in your environment:\n"
      ]
    },
    {
      "cell_type": "code",
      "execution_count": null,
      "metadata": {
        "id": "ZfkWcb8kb440"
      },
      "outputs": [],
      "source": [
        "!pip install chembl_webresource_client\n"
      ]
    },
    {
      "cell_type": "markdown",
      "metadata": {
        "id": "xWvgMs2XeUGP"
      },
      "source": [
        "Now, import the library:"
      ]
    },
    {
      "cell_type": "code",
      "execution_count": null,
      "metadata": {
        "id": "_Ql7nI-negPM"
      },
      "outputs": [],
      "source": [
        "from chembl_webresource_client.new_client import new_client\n"
      ]
    },
    {
      "cell_type": "markdown",
      "metadata": {
        "id": "2HJHG2rve82N"
      },
      "source": [
        "## Explore"
      ]
    },
    {
      "cell_type": "markdown",
      "metadata": {
        "id": "FdaXOf4qfAH_"
      },
      "source": [
        "Lets start by learning all types of data or information we can retreive from ChEMBL database using the chembl_webresource_client. You can list available data entities using the following code:"
      ]
    },
    {
      "cell_type": "code",
      "execution_count": null,
      "metadata": {
        "id": "wP0HbC6ue_ZH"
      },
      "outputs": [],
      "source": [
        "available_resources = dir(new_client)\n",
        "#available_resources = [resource for resource in dir(new_client) if not resource.startswith('_')]\n",
        "\n",
        "available_resources\n"
      ]
    },
    {
      "cell_type": "markdown",
      "metadata": {
        "id": "GsjI1F1xhmga"
      },
      "source": [
        "In Python, attributes that start with an underscore are typically used for internal purposes and are not meant to be accessed directly.\n",
        "\n",
        "Lets peek into the 'molecule' data entity in the ChEMBL database:"
      ]
    },
    {
      "cell_type": "code",
      "execution_count": null,
      "metadata": {
        "id": "2kENQPHghEBr"
      },
      "outputs": [],
      "source": [
        "new_client.molecule"
      ]
    },
    {
      "cell_type": "markdown",
      "metadata": {
        "id": "L3Z7ukV7juBu"
      },
      "source": [
        "As you can see, it returns a dictionary containing a wealth of information about a specific molecule in the ChEMBL database. The keys in this dictionary represent different attributes of the molecule, and the values associated with these keys provide specific information about these attributes.\n",
        "\n",
        "Here’s a brief explanation of some of the keys in the dictionary:\n",
        "\n",
        "- **'atc_classifications'**: The Anatomical Therapeutic Chemical (ATC) classification system codes for the molecule.\n",
        "- **'availability_type'**: The availability type of the molecule.\n",
        "- **'biotherapeutic'**: Information about the biotherapeutic properties of the molecule.\n",
        "- **'black_box_warning'**: Indicates if there is a black box warning for the molecule.\n",
        "- **'molecule_chembl_id'**: The ChEMBL ID of the molecule.\n",
        "- **'molecule_hierarchy'**: The hierarchy of the molecule in the ChEMBL database.\n",
        "- **'molecule_properties'**: Various properties of the molecule, such as its molecular weight, number of hydrogen bond acceptors and donors, etc.\n",
        "- **'molecule_structures'**: The structures of the molecule in various formats, such as SMILES, InChI, and molfile.\n",
        "- **'molecule_type'**: The type of the molecule (e.g., ‘Small molecule’).\n",
        "- **'structure_type'**: The type of the structure (e.g., ‘MOL’).\n",
        "- **'pref_name'**: This stands for “preferred name”. It is the preferred name of the molecule in the ChEMBL database. If the value is None, it means that a preferred name has not been assigned or is not available for this molecule in the database.\n",
        "- **'molecule_synonyms'**: This is a list of synonyms for the molecule. Synonyms are different names that can be used to refer to the same molecule. These could include names used in different databases, common names, scientific names, etc. If the list is empty, it means that no synonyms have been recorded or are available for this molecule in the database.\n",
        "\n"
      ]
    },
    {
      "cell_type": "markdown",
      "metadata": {
        "id": "Ue6uu_nefxUW"
      },
      "source": [
        "If we want to find a molecule by 'molecule_synonyms' name we can use:"
      ]
    },
    {
      "cell_type": "code",
      "execution_count": null,
      "metadata": {
        "id": "dCTb-1m1fwQA"
      },
      "outputs": [],
      "source": [
        "# Create a 'molecule' object that allows you to access the 'molecule' data entity in the ChEMBL database.\n",
        "molecule = new_client.molecule\n",
        "\n",
        "# Use the 'filter' method of the 'molecule' object to retrieve all molecules whose synonyms name is 'aspirin'.\n",
        "# The 'iexact' lookup is used to perform case-insensitive exact match.\n",
        "mols = molecule.filter(molecule_synonyms__molecule_synonym__iexact='aspirin')\n",
        "\n",
        "# 'mols' now contains a list of all molecules in the ChEMBL database whose synonyms name is 'aspirin'.\n",
        "mols\n",
        "\n"
      ]
    },
    {
      "cell_type": "markdown",
      "metadata": {
        "id": "rnhFYif2f-G2"
      },
      "source": [
        "Not easy to read... Don't worry you can convert the 'mols' object into a pandas DataFrame easier reading and manipulation. Here’s how you can do it:"
      ]
    },
    {
      "cell_type": "code",
      "execution_count": null,
      "metadata": {
        "id": "OBu9mCyxgcwa"
      },
      "outputs": [],
      "source": [
        "import pandas as pd\n",
        "mols_df = pd.DataFrame.from_records(mols)\n",
        "mols_df\n"
      ]
    },
    {
      "cell_type": "markdown",
      "source": [
        "You can export it into an excel file if you like:"
      ],
      "metadata": {
        "id": "_fWMPFdlAWgx"
      }
    },
    {
      "cell_type": "code",
      "source": [
        "mols_df.to_excel('mols_df.xlsx', index=False)\n",
        "from google.colab import files\n",
        "files.download('mols_df.xlsx')\n"
      ],
      "metadata": {
        "id": "_aY0UyU7zURO",
        "outputId": "0c194946-c342-4547-9c23-87567b229bd7",
        "colab": {
          "base_uri": "https://localhost:8080/",
          "height": 17
        }
      },
      "execution_count": null,
      "outputs": [
        {
          "output_type": "display_data",
          "data": {
            "text/plain": [
              "<IPython.core.display.Javascript object>"
            ],
            "application/javascript": [
              "\n",
              "    async function download(id, filename, size) {\n",
              "      if (!google.colab.kernel.accessAllowed) {\n",
              "        return;\n",
              "      }\n",
              "      const div = document.createElement('div');\n",
              "      const label = document.createElement('label');\n",
              "      label.textContent = `Downloading \"${filename}\": `;\n",
              "      div.appendChild(label);\n",
              "      const progress = document.createElement('progress');\n",
              "      progress.max = size;\n",
              "      div.appendChild(progress);\n",
              "      document.body.appendChild(div);\n",
              "\n",
              "      const buffers = [];\n",
              "      let downloaded = 0;\n",
              "\n",
              "      const channel = await google.colab.kernel.comms.open(id);\n",
              "      // Send a message to notify the kernel that we're ready.\n",
              "      channel.send({})\n",
              "\n",
              "      for await (const message of channel.messages) {\n",
              "        // Send a message to notify the kernel that we're ready.\n",
              "        channel.send({})\n",
              "        if (message.buffers) {\n",
              "          for (const buffer of message.buffers) {\n",
              "            buffers.push(buffer);\n",
              "            downloaded += buffer.byteLength;\n",
              "            progress.value = downloaded;\n",
              "          }\n",
              "        }\n",
              "      }\n",
              "      const blob = new Blob(buffers, {type: 'application/binary'});\n",
              "      const a = document.createElement('a');\n",
              "      a.href = window.URL.createObjectURL(blob);\n",
              "      a.download = filename;\n",
              "      div.appendChild(a);\n",
              "      a.click();\n",
              "      div.remove();\n",
              "    }\n",
              "  "
            ]
          },
          "metadata": {}
        },
        {
          "output_type": "display_data",
          "data": {
            "text/plain": [
              "<IPython.core.display.Javascript object>"
            ],
            "application/javascript": [
              "download(\"download_0154362f-f035-4325-95a1-dcbace8df997\", \"mols_df.xlsx\", 8114)"
            ]
          },
          "metadata": {}
        }
      ]
    },
    {
      "cell_type": "markdown",
      "metadata": {
        "id": "8bQmuZAUqkHE"
      },
      "source": [
        "# 🚀 Scenario-based Exercise\n",
        "\n",
        "**Scenario**: You’re a researcher 🔬 involved in the exciting world of drug discovery and development. You’ve just received a recently synthesized compound from a collaborating chemical lab. The compound was sent via mail 📬, and intriguingly, it only included a printed image of the structure of the compound.\n",
        "\n",
        "**Your Mission**: Your task, should you choose to accept it, involves a few critical steps:\n",
        "1. Convert the structure diagram to a SMILES string. This will test your ability to interpret chemical structure diagrams.\n",
        "2. Search the ChEMBL database using the SMILES string. This will require your skills in accessing databases programmatically.\n",
        "3. Determine if the compound already exists in the database and if it has relevant annotation. This will challenge your data analysis skills.\n",
        "\n",
        "Remember, the goal of these exercises is to familiarize you with accessing drug-related databases programmatically. This skill is crucial for reproducible and large-scale analysis in the steps of drug discovery.\n",
        "\n",
        "So, are you ready to embark on this journey? Let's dive in! 💻🎯\n",
        "\n",
        "This is the image of the compound:\n",
        "\n",
        "![cpdX.png](data:image/png;base64,iVBORw0KGgoAAAANSUhEUgAAAUAAAAFKCAMAAAEs0kZoAAADAFBMVEUAAACAAAAAgACAgAAAAICAAIAAgIDAwMDA3MCmyvBAIABgIACAIACgIADAIADgIAAAQAAgQABAQABgQACAQACgQADAQADgQAAAYAAgYABAYABgYACAYACgYADAYADgYAAAgAAggABAgABggACAgACggADAgADggAAAoAAgoABAoABgoACAoACgoADAoADgoAAAwAAgwABAwABgwACAwACgwADAwADgwAAA4AAg4ABA4ABg4ACA4ACg4ADA4ADg4AAAAEAgAEBAAEBgAECAAECgAEDAAEDgAEAAIEAgIEBAIEBgIECAIECgIEDAIEDgIEAAQEAgQEBAQEBgQECAQECgQEDAQEDgQEAAYEAgYEBAYEBgYECAYECgYEDAYEDgYEAAgEAggEBAgEBggECAgECggEDAgEDggEAAoEAgoEBAoEBgoECAoECgoEDAoEDgoEAAwEAgwEBAwEBgwECAwECgwEDAwEDgwEAA4EAg4EBA4EBg4ECA4ECg4EDA4EDg4EAAAIAgAIBAAIBgAICAAICgAIDAAIDgAIAAIIAgIIBAIIBgIICAIICgIIDAIIDgIIAAQIAgQIBAQIBgQICAQICgQIDAQIDgQIAAYIAgYIBAYIBgYICAYICgYIDAYIDgYIAAgIAggIBAgIBggICAgICggIDAgIDggIAAoIAgoIBAoIBgoICAoICgoIDAoIDgoIAAwIAgwIBAwIBgwICAwICgwIDAwIDgwIAA4IAg4IBA4IBg4ICA4ICg4IDA4IDg4IAAAMAgAMBAAMBgAMCAAMCgAMDAAMDgAMAAIMAgIMBAIMBgIMCAIMCgIMDAIMDgIMAAQMAgQMBAQMBgQMCAQMCgQMDAQMDgQMAAYMAgYMBAYMBgYMCAYMCgYMDAYMDgYMAAgMAggMBAgMBggMCAgMCggMDAgMDggMAAoMAgoMBAoMBgoMCAoMCgoMDAoMDgoMAAwMAgwMBAwMBgwMCAwMCgwMD/+/CgoKSAgID/AAAA/wD//wAAAP//AP8A//////9Y0jREAAABAHRSTlP///////////////////////////////////////////////////////////////////////////////////////////////////////////////////////////////////////////////////////////////////////////////////////////////////////////////////////////////////////////////////////////////////////////////////////////////////////////////////////////////////////////////////8AU/cHJQAADg5JREFUeJztXUuCqyAQZKfny/Wy9Yy69E388umGhkYleVWLmUTorrIERDSJmYUwgi3UZqaWoqKYmgcqElvM8daElYz71vnrbfdpDBF+vjFuAbkzREYj3WtUjFWzKnrH0j+0e0X7aBrv4JozkmoEbmSimdkigmTGf8tUDEQYaUVhRifkCysaqsPSQ3PVimJqHqUVzTwxsd7WniXxto7SikZakQfTr/6vioaN9M8uzqbwbEVucE9kRLg1zLmbOAnuW/osSwAVw62Jin4PM2djIYrIw2O/JkaodbvTAoNMVptJNPEXV9GPm6QVWaO/oF/zSO10pISpW1rRrOO9KCODREVjDH+iyE848SflsoRGVCsj4WtVOFRLOPcfD/t6CkuQSphNiISXJzTx6yaiOFY/cco7rkViM4ag9n4284cltphMSEcb7z1dHHpAa96VJIozThcslVPMzw4LgYRI6JUImmGQcGnqVKBJFJvjLz2xNGFtZ3pKJD1HC0NXcdIwxftuunPhWO8N5brlXTjxiSaMZju01U34N1GpnHB++wnjaP40Wj9hNmRz7GSLFCY03efvZOolPP6ZFeqEy0XLWE/h3H1kTXO9hAWIJ5z+BA55tNGqS7+veVmxFPavygmTtX4wITGLLE74WZOhpqWlCWdT+Yq+BEiIhEj4XyRMXpyEs/lUukhKcmSLXQMY97+sOMIfr8RdB3EJjwsjelbjyUuQU5dproowQfQESS/+GyMqJhKGm9zrPrbYkMVRDwxzyC1GcTNKTDmpC9N4BM0fFhMJY50n1VOREAmREAnlCWPJYsUmMyE9wAfF/gmHmyiYRPExoJtgc+Q8aM6XXLETbrz/VH2K0VC1HGrqHg5b7G0zdCX/yTy2OFBtmNOzO8Ugig+7Ay62KZ8iucZiLRX7Cvn68Rlnl5Vw5u9BbcVLw8tJmMAy1ambcDZj5YSjn0CbMEigTii/CtCQICESNp3w9deR9kVJIXm00jEiV0u4/62UcNoSTrUSnpet8tsp0YTbLcDPM0uNejgv92amignPdexaCQugS9gN5tVVUsJAIfCvnw/jPL6Nea+pqru3ZC2P/Nz72l6lJmkKFCdd7/a5W5RaaJ7iwPDKAgLzAs3Zfftti14OwVMaaM3S/14unwxpS+BH1vrUuVn1NSdw/jwQY8wus0mBd+DXBV6/fxCoBQRqAYFaQKAWEBiNFoRrFjLNtuxQHC5ZSS0VaGfO12jvVnKRPR9EyhwjqSdd+OhsgW4u51EOgUZvRwxbQlURiQvrGwHLURqNpivkqBMV0fUi0v1ot55MYLqJRTUK+iobLhmJpO2fZBF3H8bItDG5rdQNzuuExC4mBWYR+CzKaLnA/IF4Lorbo/fWkU5RKPAIL4yzyCFQAQiEwBkCBeQQqAAEQuD8PQKzM2umW2f0JQJzLyiCaGO9SaTY1zZK1eWujNDXNJLaIhb2wkwabcg3ZCy9tlGkLkckWTWME15hy8UlS5w6gTOpCgkWoTpJBWZJwu7VssPArm0Io4/63bEpJrtgdS9MWZDDuqq/QKCdtnCN1RrBLhI4Oy4UxC4ftu/nKwVqTrYr6/LUUssC99NNjOFZgfOQaCePC1yeGm9aYLINqqAMv54BAiFQjV8XeD1+XGD3avk5arM+Rz2QE0/N6cllKQ2cHDXT+q8hge4HzfaHWBsS+PYEvudtgn2ggrgldWmcJ9DMjTnYeQK7uTGB1OpLWwI/3Xj9uMGwdeLWBM77c9TvI1dzAu+ASuD4Ocx9up4GGoHeiFftqLokxZHjuj7VuWve1aG5bhz2F/siQQ1BAU1p4HmuG7ePXzUm8PxQ2DmZqSEo4CmM66mFcqUWEqVJh9YFkrcalFpootI4CNyzFsY13wa71gXacrp9vlpBT8hTHBjMAxsT2G+fRzzudrQm8PMB7WXVozs/QllHkgvd0oczIWxO4Pq10fZNyxqCfPz2NckdgEAtdAKv6RcuhS4aAiFQDQjUAgK1gEAtIFALCNQCArWAQC0gUItHBUqiVQy6ZxNk0brFI3KtWhwt+jSH/pGAIonmvMGXCNfsP/FaHk6+pqpmpiaTZkrM+iRAiUDyHok4EbE3sR3MF8gkE0pktPDRBa3HDjFsCRvOkHPRmQKjzSepMKhAPF8VxGjkBdvizZ0OT1XQyQu2sxK5FpCK1nQ+qyxZLxodkygVGG9fSRsSg3GkKcoECk6ZEYnp/u1H2++qyItJlJ1m2B0UDV0FNufPJRiJyeic02zIURx9vMsdWnNIsuezlIkpgTn5A5L8mWLYP6oLdPtHSfQZLlBQNF3U3UG2bkALFOzz8mySsjgn+kqBHlMhIBACZwgUkEOgAhAIgTMECsghUAEIhMAZAgXkEKgABELgDIEC8t8QmJ9atWP5i0fZBDtDSXjJ8lsuwfmyJPoMFygoYrBea6IFAvOf6lAvott7lxSou5FQEm3CN3x89q2Ye2/kOI21vVthftKrbyZ6XcuuTUZm31BV3o71qrp7J5KXIPG7bl50vB61s0wqriBlX7IkWsffEE1DFQrlzYKmSJabdJVYBbm8ZAWubVgNKH88mNONj4k2x4drz7kPHTFbIaJ2nN+HvHoBW3yAsASKCGgtuefsReBwvI5VLJq05Y/ERIbjIF8gsOBcFsbL5rWlAgtmA374uB/kawQWzKf84OHoMLGKmkuv/AmtHXrOSS8TqIhdtI3rN9W0K/DzTQOpLM8K3I90rOKzArvPlwy0LHA5yE0L/HvxaltglxiqHheYOlM+LzB1Pfa8wCkhUAPNzkkpdNEQCIFqQKAWEKgFBGoBgVpcz6AEBGrx2wL7Yflxg0uhENibDfuXAlt9unhRKUB5ns9vQnSrzGlXdaZ9XmB36Jr270hsS+Chb6YWIp8X6HxR7GZhUwLPmwjz8e3ejQm0vu6+b1KgNf6Nx2qkhQrilqSlcSZ89wUCrQ3PC6QOsVX8vEDr54/C73t+XuDbHQff6z9ry9MCR+sY76+bEjhbS9+7mrYEzvv93pG6rdqCwDkY8loT6H8fdXsCb0HzAlvHUwaOgzWteHs/VFRxqnE5HhE6voyPl31xDQOjWO2zHJsWC60LHBgYQx80uO0noI9f6oCBMfRea1uxOHisUsDAGCHtztSNbp37FOlwt9DOmToygIE8lr6aWs6GgRE+iTkwMMIHA3V4owvrsEyaUz8xCwN5jOQ0cNk+dOeNSBjIgmmCgz29gYExOFY5G4+GCQOjGIKL4d5bTYCBcWwPX7yXq7exW3/83e7WMDCF8e0tB76dmQ0MlGDshsXGYUrNaprG1xzpVgEDlYCBSjxp4BedKnjAQCVgoBIwUAkYqAQMVAIGKgEDlYCBSsBAJWCgEjBQCRioBAxUAgYqAQOVgIFKwEAlYKASMFAJGKgEDFTiwV0wosd9r+SuQf7sDtTbj8e4nzDQUX6zh6Y2+SNP6XuS7/KQbHRa8lsNjGi93MQYgYb8ob5TVkPJfQn5PQaK1V1gojxlEfltI89l9QW5riS/2MCoHr6wionxJLVGxIeGbbdScXSK+wbyqwzM2P1UQyzkziDXZLnwpJcdUiNX9qinJa9uYHHPq9AQy7t9qiFGIgvY4jI0Y7+iLZQ0PSJBNnk9A7XmJdNECNRHzs6TJ6vqfKtKrjmzIaqbHkUhJa9iYF3zkkmdkspHLo983VKD6qK5UKotXEkuboi6tbDrzLMZas4Rs7lZ8v2lkkITLiYheRohb9/AjSjguoucbIjfZuBMeHgjeejhFQbesENPGRhwf6uBPPndgIHVyGGgkhwGKslhoJIcBirJYaCSHAYqyWGgkhwGKslhoJIcBirJYaCSHAYqyWGgkhwGKslhoJIcBirJYaCSHAYqyWGgkhwGKslhoJIcBirJYaCSHAYqyWGgkvyrDPztZ2Muxu8/nXUlgh24kTx0b/4uAyn9N5OHRHUM5HatIniK68k587ai/aUue4REj4R5l5Lzub2SIno3xyW7IWx6l3iYaHre+bhK9sr7kWp6V5KLm96+tVL2ag2xaNSr5GFkUOALctMLBMhTkgkKM1cxMaPp7YXSxFJ1xbtR1PSoinVHxFTKKzwp2A9N01OTq3KlmEr1ZIRVaHpUmNZDYRLBsKJTkAiv1/RqhmdEG24fbjiMqaZ3BfmyaaKrOu/EJKSBNQfjXDNqDmLkGs4f3mS9MoYguOoOODnFFWuThwT+z7zXNJCeC6mRtuYK8zgS/yeiqxp4HSIO3eLezvP6/BmCzWUJ7zRwpo26y7yDK/yR7e8xcOG0Ge90bz52tvO68XcZON+znMgT//0flxeTv7kg4TMGLtSPHbnl1fLz2q9gc3bC5wy8876azbmzTsvr0d+cm/D/NXDuz4EQBmZwWqzHfAYGZnDarMPWjWFgBqfDus1nYGAGp8s6KmdT/72BezeGgWLOgLWDgVmcIeuoM/AxPHTc6gIGKgEDlYCBSsBAJWCgEjBQCRioBAxUAgYqAQOVgIFKwEAlYKASP7ALzwIGKgEDlYCBSjxlYPc674aZd+cXM0vsj9194PGInMmEcB/8hoERrPYN5+ON4xBYCANZjEvf9fvsYqr1yCgM5LDcQXwx289n52Egh7fjk4XFwePzGzCQQUf13xWTXQQDGQxcA9ya4P7ZAxjI0UUcsMuIec6Bu7TKAAOVaMzAxFPzMHA5U/Rk0fLI9z6ZhoEMnDOFC2eCAwM5dHY7s+HMYmAgj4lug4NrLAzksX68xW2E6/qCNcGGgTFsq1lD/xnxxn57yFvy+V0YuKF/e3O7l3dmhoFpjN3wsfE9dPSl3ZegseP5ffgHJ0oBv3XZU1wAAAAASUVORK5CYII=)\n",
        "\n"
      ]
    },
    {
      "cell_type": "markdown",
      "metadata": {
        "id": "XBaD4tjqvMHS"
      },
      "source": [
        "First step: Convert the Kekulé diagram to a SMILES string. You can use several different software for that, including:\n",
        "https://cactus.nci.nih.gov/cgi-bin/osra/index.cgi\n"
      ]
    },
    {
      "cell_type": "markdown",
      "source": [
        "Now that you got the SMILES ou can use it to query ChEMBL database:"
      ],
      "metadata": {
        "id": "sDSeFQSK0T6l"
      }
    },
    {
      "cell_type": "code",
      "source": [
        "# ENTER THE SMILES IN THE X BELOW \"Oc1c(I)cc(Cl)c2cccnc12\"\n",
        "canonical_smiles= X\n",
        "smiles_mol = molecule.filter(molecule_structures__canonical_smiles=canonical_smiles)\n",
        "smiles_mol_df = pd.DataFrame.from_records(smiles_mol)\n",
        "smiles_mol_df.to_excel('mols_df.xlsx', index=False)\n",
        "from google.colab import files\n",
        "files.download('mols_df.xlsx')\n",
        "smiles_mol_df"
      ],
      "metadata": {
        "id": "uT1tfIDM0SvG"
      },
      "execution_count": null,
      "outputs": []
    },
    {
      "cell_type": "markdown",
      "source": [
        "## What have you found about the chemical compound that was sent?"
      ],
      "metadata": {
        "id": "rxXAC3YD-cG3"
      }
    },
    {
      "cell_type": "markdown",
      "source": [
        "## 🎁 Bonus"
      ],
      "metadata": {
        "id": "ZDq5ZgBL9yZP"
      }
    },
    {
      "cell_type": "markdown",
      "source": [
        "Can you create an excel file with all the withdrawn drugs listed on ChEMBL?"
      ],
      "metadata": {
        "id": "1V-HKNpa-L9m"
      }
    },
    {
      "cell_type": "code",
      "source": [
        "# Use the 'filter' method of the 'molecule' object to retrieve all molecules that have been withdrawn.\n",
        "withdrawn_mols = molecule.filter(withdrawn_flag=True)\n",
        "withdrawn_mol_df = pd.DataFrame.from_records(withdrawn_mols)\n",
        "withdrawn_mol_df.to_excel('withdrawn_mol_df.xlsx', index=False)\n",
        "from google.colab import files\n",
        "files.download('withdrawn_mol_df.xlsx')"
      ],
      "metadata": {
        "id": "eFqBWDxX2RRX"
      },
      "execution_count": null,
      "outputs": []
    },
    {
      "cell_type": "markdown",
      "source": [
        "Canonical SMILES?"
      ],
      "metadata": {
        "id": "vxO8ySmc9_4I"
      }
    },
    {
      "cell_type": "markdown",
      "source": [
        "In the context of chemical compounds and SMILES (Simplified Molecular Input Line Entry System), the canonical SMILES is a unique notation that represents the structure of the compound. There can be many valid SMILES notations for a single molecule because the SMILES notation can vary based on the starting atom and the traversal path. The canonical SMILES is a specific SMILES notation that is chosen based on certain rules, and it is the same regardless of the way the molecule is drawn or represented. That is why it is the form used in databases. the rdkit library can be used to create canonical SMILES."
      ],
      "metadata": {
        "id": "9jDFOCMU64zt"
      }
    },
    {
      "cell_type": "code",
      "source": [
        "# install the necessary tool\n",
        "!pip install rdkit-pypi"
      ],
      "metadata": {
        "id": "m1eDJcnB8Zb3"
      },
      "execution_count": null,
      "outputs": []
    },
    {
      "cell_type": "code",
      "source": [
        "from rdkit import Chem\n",
        "\n",
        "# The SMILES string of the molecule\n",
        "smiles_string = \"C/C4=C/3CCC(C)(COc2ccc(CC1SC(=O)*C1=O)cc2)OC3C(C)C(C)C4c5c[nH]5\"\n",
        "\n",
        "# Create a RDKit molecule object from the SMILES string\n",
        "molecule = Chem.MolFromSmiles(smiles_string)\n",
        "\n",
        "# Get the canonical SMILES string\n",
        "canonical_smiles = Chem.MolToSmiles(molecule, isomericSmiles=True)\n",
        "\n",
        "print(canonical_smiles)\n",
        "\n"
      ],
      "metadata": {
        "id": "1XhiB7rQ5jj7"
      },
      "execution_count": null,
      "outputs": []
    },
    {
      "cell_type": "markdown",
      "metadata": {
        "id": "H_BNOJoustqt"
      },
      "source": []
    },
    {
      "cell_type": "markdown",
      "source": [
        "# MIT License\n",
        "\n",
        "Copyright (c) 2024 Nuno S. Osório"
      ],
      "metadata": {
        "id": "EqsPxZNc1Pj9"
      }
    }
  ],
  "metadata": {
    "colab": {
      "provenance": [],
      "include_colab_link": true
    },
    "kernelspec": {
      "display_name": "Python 3",
      "name": "python3"
    },
    "language_info": {
      "name": "python"
    }
  },
  "nbformat": 4,
  "nbformat_minor": 0
}